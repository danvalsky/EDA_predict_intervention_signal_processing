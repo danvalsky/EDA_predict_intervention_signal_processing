{
  "nbformat": 4,
  "nbformat_minor": 0,
  "metadata": {
    "colab": {
      "provenance": []
    },
    "kernelspec": {
      "name": "python3",
      "display_name": "Python 3"
    },
    "language_info": {
      "name": "python"
    },
    "accelerator": "GPU",
    "gpuClass": "standard"
  },
  "cells": [
    {
      "cell_type": "markdown",
      "source": [
        "# The goal here is to do LSTM"
      ],
      "metadata": {
        "id": "je5_ga7UK2ai"
      }
    },
    {
      "cell_type": "code",
      "execution_count": null,
      "metadata": {
        "id": "6Bk0nKZSsvnr"
      },
      "outputs": [],
      "source": [
        "import numpy as np\n",
        "import pandas as pd\n",
        "import re\n",
        "import matplotlib.pyplot as plt\n",
        "import seaborn as sns\n",
        "\n",
        "from sklearn.preprocessing import MinMaxScaler\n",
        "\n",
        "%matplotlib inline"
      ]
    },
    {
      "cell_type": "code",
      "source": [
        "from google.colab import drive\n",
        "drive.mount(\"/content/gdrive\")\n",
        "df = pd.read_csv(\"/content/train_set.csv\", error_bad_lines=None)\n",
        "df = df.drop(['_temporary_index_column'],axis=1)"
      ],
      "metadata": {
        "id": "AF6KZRIis6a5",
        "outputId": "873e17b1-6c03-46c4-f6d8-c4963b49dce8",
        "colab": {
          "base_uri": "https://localhost:8080/"
        }
      },
      "execution_count": null,
      "outputs": [
        {
          "output_type": "stream",
          "name": "stdout",
          "text": [
            "Drive already mounted at /content/gdrive; to attempt to forcibly remount, call drive.mount(\"/content/gdrive\", force_remount=True).\n"
          ]
        }
      ]
    },
    {
      "cell_type": "markdown",
      "source": [
        "# Data preparation"
      ],
      "metadata": {
        "id": "OWs249do6QTA"
      }
    },
    {
      "cell_type": "code",
      "source": [
        "def scale_features(df):\n",
        "  features = [\"measurement_x\", \"measurement_y\", \"measurement_z\"]\n",
        "\n",
        "  # scaling between 0 and 1\n",
        "  scaler = MinMaxScaler()\n",
        "  df_scaled = pd.DataFrame(scaler.fit_transform(df[features]),\n",
        "                                columns=features)\n",
        "  df_scaled[\"patient_id\"] = df[\"patient_id\"]\n",
        "  df_scaled[\"timestamp\"] = pd.to_datetime(df[\"timestamp\"])\n",
        "  df_scaled['time'] = df_scaled['timestamp'].apply(lambda x: x.value)\n",
        "\n",
        "  return df_scaled\n"
      ],
      "metadata": {
        "id": "qD3JAkF--t6d"
      },
      "execution_count": null,
      "outputs": []
    },
    {
      "cell_type": "code",
      "source": [
        "df_scaled = scale_features(df)\n",
        "df_scaled.tail()"
      ],
      "metadata": {
        "colab": {
          "base_uri": "https://localhost:8080/",
          "height": 206
        },
        "id": "hTnYpFi252Pb",
        "outputId": "810be3bf-3765-4413-e102-a2d85648232a"
      },
      "execution_count": null,
      "outputs": [
        {
          "output_type": "execute_result",
          "data": {
            "text/plain": [
              "        measurement_x  measurement_y  measurement_z  patient_id  \\\n",
              "196714       0.442588       0.411046       0.126160        6264   \n",
              "196715       0.444481       0.412395       0.129075        6264   \n",
              "196716       0.446362       0.413761       0.126896        6264   \n",
              "196717       0.448230       0.415142       0.136281        6264   \n",
              "196718       0.450086       0.416538       0.126688        6264   \n",
              "\n",
              "                        timestamp                 time  \n",
              "196714 2012-10-29 09:35:14.445852  1351503314445852000  \n",
              "196715 2012-10-29 09:35:14.495852  1351503314495852000  \n",
              "196716 2012-10-29 09:35:14.545852  1351503314545852000  \n",
              "196717 2012-10-29 09:35:14.595852  1351503314595852000  \n",
              "196718 2012-10-29 09:35:14.645852  1351503314645852000  "
            ],
            "text/html": [
              "\n",
              "  <div id=\"df-ebf6f8c2-a124-480e-a598-8fd2df73c188\">\n",
              "    <div class=\"colab-df-container\">\n",
              "      <div>\n",
              "<style scoped>\n",
              "    .dataframe tbody tr th:only-of-type {\n",
              "        vertical-align: middle;\n",
              "    }\n",
              "\n",
              "    .dataframe tbody tr th {\n",
              "        vertical-align: top;\n",
              "    }\n",
              "\n",
              "    .dataframe thead th {\n",
              "        text-align: right;\n",
              "    }\n",
              "</style>\n",
              "<table border=\"1\" class=\"dataframe\">\n",
              "  <thead>\n",
              "    <tr style=\"text-align: right;\">\n",
              "      <th></th>\n",
              "      <th>measurement_x</th>\n",
              "      <th>measurement_y</th>\n",
              "      <th>measurement_z</th>\n",
              "      <th>patient_id</th>\n",
              "      <th>timestamp</th>\n",
              "      <th>time</th>\n",
              "    </tr>\n",
              "  </thead>\n",
              "  <tbody>\n",
              "    <tr>\n",
              "      <th>196714</th>\n",
              "      <td>0.442588</td>\n",
              "      <td>0.411046</td>\n",
              "      <td>0.126160</td>\n",
              "      <td>6264</td>\n",
              "      <td>2012-10-29 09:35:14.445852</td>\n",
              "      <td>1351503314445852000</td>\n",
              "    </tr>\n",
              "    <tr>\n",
              "      <th>196715</th>\n",
              "      <td>0.444481</td>\n",
              "      <td>0.412395</td>\n",
              "      <td>0.129075</td>\n",
              "      <td>6264</td>\n",
              "      <td>2012-10-29 09:35:14.495852</td>\n",
              "      <td>1351503314495852000</td>\n",
              "    </tr>\n",
              "    <tr>\n",
              "      <th>196716</th>\n",
              "      <td>0.446362</td>\n",
              "      <td>0.413761</td>\n",
              "      <td>0.126896</td>\n",
              "      <td>6264</td>\n",
              "      <td>2012-10-29 09:35:14.545852</td>\n",
              "      <td>1351503314545852000</td>\n",
              "    </tr>\n",
              "    <tr>\n",
              "      <th>196717</th>\n",
              "      <td>0.448230</td>\n",
              "      <td>0.415142</td>\n",
              "      <td>0.136281</td>\n",
              "      <td>6264</td>\n",
              "      <td>2012-10-29 09:35:14.595852</td>\n",
              "      <td>1351503314595852000</td>\n",
              "    </tr>\n",
              "    <tr>\n",
              "      <th>196718</th>\n",
              "      <td>0.450086</td>\n",
              "      <td>0.416538</td>\n",
              "      <td>0.126688</td>\n",
              "      <td>6264</td>\n",
              "      <td>2012-10-29 09:35:14.645852</td>\n",
              "      <td>1351503314645852000</td>\n",
              "    </tr>\n",
              "  </tbody>\n",
              "</table>\n",
              "</div>\n",
              "      <button class=\"colab-df-convert\" onclick=\"convertToInteractive('df-ebf6f8c2-a124-480e-a598-8fd2df73c188')\"\n",
              "              title=\"Convert this dataframe to an interactive table.\"\n",
              "              style=\"display:none;\">\n",
              "        \n",
              "  <svg xmlns=\"http://www.w3.org/2000/svg\" height=\"24px\"viewBox=\"0 0 24 24\"\n",
              "       width=\"24px\">\n",
              "    <path d=\"M0 0h24v24H0V0z\" fill=\"none\"/>\n",
              "    <path d=\"M18.56 5.44l.94 2.06.94-2.06 2.06-.94-2.06-.94-.94-2.06-.94 2.06-2.06.94zm-11 1L8.5 8.5l.94-2.06 2.06-.94-2.06-.94L8.5 2.5l-.94 2.06-2.06.94zm10 10l.94 2.06.94-2.06 2.06-.94-2.06-.94-.94-2.06-.94 2.06-2.06.94z\"/><path d=\"M17.41 7.96l-1.37-1.37c-.4-.4-.92-.59-1.43-.59-.52 0-1.04.2-1.43.59L10.3 9.45l-7.72 7.72c-.78.78-.78 2.05 0 2.83L4 21.41c.39.39.9.59 1.41.59.51 0 1.02-.2 1.41-.59l7.78-7.78 2.81-2.81c.8-.78.8-2.07 0-2.86zM5.41 20L4 18.59l7.72-7.72 1.47 1.35L5.41 20z\"/>\n",
              "  </svg>\n",
              "      </button>\n",
              "      \n",
              "  <style>\n",
              "    .colab-df-container {\n",
              "      display:flex;\n",
              "      flex-wrap:wrap;\n",
              "      gap: 12px;\n",
              "    }\n",
              "\n",
              "    .colab-df-convert {\n",
              "      background-color: #E8F0FE;\n",
              "      border: none;\n",
              "      border-radius: 50%;\n",
              "      cursor: pointer;\n",
              "      display: none;\n",
              "      fill: #1967D2;\n",
              "      height: 32px;\n",
              "      padding: 0 0 0 0;\n",
              "      width: 32px;\n",
              "    }\n",
              "\n",
              "    .colab-df-convert:hover {\n",
              "      background-color: #E2EBFA;\n",
              "      box-shadow: 0px 1px 2px rgba(60, 64, 67, 0.3), 0px 1px 3px 1px rgba(60, 64, 67, 0.15);\n",
              "      fill: #174EA6;\n",
              "    }\n",
              "\n",
              "    [theme=dark] .colab-df-convert {\n",
              "      background-color: #3B4455;\n",
              "      fill: #D2E3FC;\n",
              "    }\n",
              "\n",
              "    [theme=dark] .colab-df-convert:hover {\n",
              "      background-color: #434B5C;\n",
              "      box-shadow: 0px 1px 3px 1px rgba(0, 0, 0, 0.15);\n",
              "      filter: drop-shadow(0px 1px 2px rgba(0, 0, 0, 0.3));\n",
              "      fill: #FFFFFF;\n",
              "    }\n",
              "  </style>\n",
              "\n",
              "      <script>\n",
              "        const buttonEl =\n",
              "          document.querySelector('#df-ebf6f8c2-a124-480e-a598-8fd2df73c188 button.colab-df-convert');\n",
              "        buttonEl.style.display =\n",
              "          google.colab.kernel.accessAllowed ? 'block' : 'none';\n",
              "\n",
              "        async function convertToInteractive(key) {\n",
              "          const element = document.querySelector('#df-ebf6f8c2-a124-480e-a598-8fd2df73c188');\n",
              "          const dataTable =\n",
              "            await google.colab.kernel.invokeFunction('convertToInteractive',\n",
              "                                                     [key], {});\n",
              "          if (!dataTable) return;\n",
              "\n",
              "          const docLinkHtml = 'Like what you see? Visit the ' +\n",
              "            '<a target=\"_blank\" href=https://colab.research.google.com/notebooks/data_table.ipynb>data table notebook</a>'\n",
              "            + ' to learn more about interactive tables.';\n",
              "          element.innerHTML = '';\n",
              "          dataTable['output_type'] = 'display_data';\n",
              "          await google.colab.output.renderOutput(dataTable, element);\n",
              "          const docLink = document.createElement('div');\n",
              "          docLink.innerHTML = docLinkHtml;\n",
              "          element.appendChild(docLink);\n",
              "        }\n",
              "      </script>\n",
              "    </div>\n",
              "  </div>\n",
              "  "
            ]
          },
          "metadata": {},
          "execution_count": 24
        }
      ]
    },
    {
      "cell_type": "code",
      "source": [
        "max_seq_len = df_scaled.groupby(\"patient_id\").count().max()[\"measurement_x\"]\n",
        "max_seq_len"
      ],
      "metadata": {
        "colab": {
          "base_uri": "https://localhost:8080/"
        },
        "id": "k5GQtZ_661xU",
        "outputId": "70fad89f-f50f-4b28-9880-cfdb05f3389f"
      },
      "execution_count": null,
      "outputs": [
        {
          "output_type": "execute_result",
          "data": {
            "text/plain": [
              "101"
            ]
          },
          "metadata": {},
          "execution_count": 25
        }
      ]
    },
    {
      "cell_type": "code",
      "source": [
        "from tensorflow.keras.preprocessing import sequence"
      ],
      "metadata": {
        "id": "RGJiJexe7POo"
      },
      "execution_count": null,
      "outputs": []
    },
    {
      "cell_type": "code",
      "source": [
        "# prepare a list with only measurements (a list rather than df) so we could use pad_sequences function from keras to get the same time serious length to all the patient_id\n",
        "\n",
        "# sequence.pad_sequences(df_scaled, maxlen=max_seq_len)\n",
        "from tqdm import tqdm\n",
        "patient_ids = df_scaled['patient_id'].unique()\n",
        "\n",
        "seqauences_scaled = []\n",
        "for id in tqdm(patient_ids):\n",
        "  sub_df = df_scaled[df_scaled[\"patient_id\"] == id].drop(columns=[\"timestamp\", \"time\", \"patient_id\"])\n",
        "  seqauences_scaled.append(sub_df.values)"
      ],
      "metadata": {
        "colab": {
          "base_uri": "https://localhost:8080/"
        },
        "id": "bWnWFrsd6-sN",
        "outputId": "d5d6374d-701b-49c3-cbb6-0281bb9c7f49"
      },
      "execution_count": null,
      "outputs": [
        {
          "output_type": "stream",
          "name": "stderr",
          "text": [
            "100%|██████████| 6265/6265 [00:05<00:00, 1098.85it/s]\n"
          ]
        }
      ]
    },
    {
      "cell_type": "code",
      "source": [
        "# do pad_sequences to get the same time serious length to all the patient_id\n",
        "# Convert categorical labeled into dummy/indicator variables\n",
        "\n",
        "X = sequence.pad_sequences(seqauences_scaled, maxlen=max_seq_len, dtype=np.float32)\n",
        "y = pd.get_dummies(df.groupby(\"patient_id\").first().label).values\n",
        "\n",
        "print(X.shape)\n",
        "print(y.shape)"
      ],
      "metadata": {
        "colab": {
          "base_uri": "https://localhost:8080/"
        },
        "id": "Ot5VncHA8Hp9",
        "outputId": "54c13ce0-8778-44d6-bb07-807f5e76c2c4"
      },
      "execution_count": null,
      "outputs": [
        {
          "output_type": "stream",
          "name": "stdout",
          "text": [
            "(6265, 101, 3)\n",
            "(6265, 3)\n"
          ]
        }
      ]
    },
    {
      "cell_type": "code",
      "source": [
        "from sklearn.model_selection import train_test_split\n",
        "seed = 42\n",
        "X_train, X_test, y_train, y_test = train_test_split(X, y, test_size=0.33, random_state=seed)\n",
        "print(X_train.shape)\n",
        "print(y_train.shape)\n",
        "print(X_test.shape)\n",
        "print(y_test.shape)"
      ],
      "metadata": {
        "colab": {
          "base_uri": "https://localhost:8080/"
        },
        "id": "fKW2Zys--zpN",
        "outputId": "8c8c8fa4-de62-45f3-9520-1354471b49a7"
      },
      "execution_count": null,
      "outputs": [
        {
          "output_type": "stream",
          "name": "stdout",
          "text": [
            "(4197, 101, 3)\n",
            "(4197, 3)\n",
            "(2068, 101, 3)\n",
            "(2068, 3)\n"
          ]
        }
      ]
    },
    {
      "cell_type": "markdown",
      "source": [
        "# Building simple LSTM Model"
      ],
      "metadata": {
        "id": "W3Ia_8uZAvRq"
      }
    },
    {
      "cell_type": "code",
      "source": [
        "from tensorflow.keras.models import Sequential\n",
        "from tensorflow.keras.layers import Input, LSTM, Dense\n",
        "from tensorflow.keras.optimizers import Adam"
      ],
      "metadata": {
        "id": "eUBpy8Gc_myk"
      },
      "execution_count": null,
      "outputs": []
    },
    {
      "cell_type": "code",
      "source": [
        "# do deep-learning optimizers, such as Adagrad, RMSProp, AdaDelta, and Adam.\n",
        "batch_size = 32\n",
        "epochs = 125\n",
        "\n",
        "model = Sequential()\n",
        "model.add(LSTM(10, input_shape=(max_seq_len, 3)))\n",
        "model.add(Dense(3, activation=\"softmax\"))\n",
        "model.compile(loss=\"categorical_crossentropy\", optimizer=\"adam\")\n",
        "print(model.summary())"
      ],
      "metadata": {
        "colab": {
          "base_uri": "https://localhost:8080/"
        },
        "id": "Y9I8HDglA7Xw",
        "outputId": "0fcf8f77-d766-4741-a676-e0337877418e"
      },
      "execution_count": null,
      "outputs": [
        {
          "output_type": "stream",
          "name": "stdout",
          "text": [
            "Model: \"sequential_1\"\n",
            "_________________________________________________________________\n",
            " Layer (type)                Output Shape              Param #   \n",
            "=================================================================\n",
            " lstm (LSTM)                 (None, 10)                560       \n",
            "                                                                 \n",
            " dense (Dense)               (None, 3)                 33        \n",
            "                                                                 \n",
            "=================================================================\n",
            "Total params: 593\n",
            "Trainable params: 593\n",
            "Non-trainable params: 0\n",
            "_________________________________________________________________\n",
            "None\n"
          ]
        }
      ]
    },
    {
      "cell_type": "code",
      "source": [
        "history = model.fit(X_train, y_train, validation_data=(X_test, y_test), epochs= epochs, batch_size = batch_size, verbose = 2)"
      ],
      "metadata": {
        "colab": {
          "base_uri": "https://localhost:8080/"
        },
        "id": "sCZo7j8tB57j",
        "outputId": "3c5b182a-668e-4317-f667-9e701ed63e56"
      },
      "execution_count": null,
      "outputs": [
        {
          "output_type": "stream",
          "name": "stdout",
          "text": [
            "Epoch 1/125\n",
            "132/132 - 8s - loss: 0.8351 - val_loss: 0.6833 - 8s/epoch - 63ms/step\n",
            "Epoch 2/125\n",
            "132/132 - 1s - loss: 0.6232 - val_loss: 0.6156 - 926ms/epoch - 7ms/step\n",
            "Epoch 3/125\n",
            "132/132 - 1s - loss: 0.5135 - val_loss: 0.4634 - 894ms/epoch - 7ms/step\n",
            "Epoch 4/125\n",
            "132/132 - 1s - loss: 0.4306 - val_loss: 0.4671 - 931ms/epoch - 7ms/step\n",
            "Epoch 5/125\n",
            "132/132 - 1s - loss: 0.4228 - val_loss: 0.4124 - 914ms/epoch - 7ms/step\n",
            "Epoch 6/125\n",
            "132/132 - 1s - loss: 0.3925 - val_loss: 0.3927 - 891ms/epoch - 7ms/step\n",
            "Epoch 7/125\n",
            "132/132 - 1s - loss: 0.3889 - val_loss: 0.4034 - 1s/epoch - 8ms/step\n",
            "Epoch 8/125\n",
            "132/132 - 1s - loss: 0.3722 - val_loss: 0.3922 - 1s/epoch - 8ms/step\n",
            "Epoch 9/125\n",
            "132/132 - 1s - loss: 0.3581 - val_loss: 0.4899 - 1s/epoch - 9ms/step\n",
            "Epoch 10/125\n",
            "132/132 - 2s - loss: 0.3625 - val_loss: 0.3734 - 2s/epoch - 12ms/step\n",
            "Epoch 11/125\n",
            "132/132 - 1s - loss: 0.3509 - val_loss: 0.3630 - 1s/epoch - 9ms/step\n",
            "Epoch 12/125\n",
            "132/132 - 1s - loss: 0.3418 - val_loss: 0.3400 - 1s/epoch - 9ms/step\n",
            "Epoch 13/125\n",
            "132/132 - 1s - loss: 0.3298 - val_loss: 0.3379 - 903ms/epoch - 7ms/step\n",
            "Epoch 14/125\n",
            "132/132 - 1s - loss: 0.3340 - val_loss: 0.3919 - 928ms/epoch - 7ms/step\n",
            "Epoch 15/125\n",
            "132/132 - 1s - loss: 0.3251 - val_loss: 0.3602 - 924ms/epoch - 7ms/step\n",
            "Epoch 16/125\n",
            "132/132 - 1s - loss: 0.3188 - val_loss: 0.3293 - 1s/epoch - 8ms/step\n",
            "Epoch 17/125\n",
            "132/132 - 1s - loss: 0.3131 - val_loss: 0.3207 - 947ms/epoch - 7ms/step\n",
            "Epoch 18/125\n",
            "132/132 - 1s - loss: 0.3086 - val_loss: 0.3308 - 911ms/epoch - 7ms/step\n",
            "Epoch 19/125\n",
            "132/132 - 1s - loss: 0.3321 - val_loss: 0.3469 - 999ms/epoch - 8ms/step\n",
            "Epoch 20/125\n",
            "132/132 - 1s - loss: 0.3020 - val_loss: 0.3705 - 932ms/epoch - 7ms/step\n",
            "Epoch 21/125\n",
            "132/132 - 1s - loss: 0.3246 - val_loss: 0.3357 - 1s/epoch - 8ms/step\n",
            "Epoch 22/125\n",
            "132/132 - 1s - loss: 0.3018 - val_loss: 0.3188 - 927ms/epoch - 7ms/step\n",
            "Epoch 23/125\n",
            "132/132 - 1s - loss: 0.2968 - val_loss: 0.3021 - 1s/epoch - 10ms/step\n",
            "Epoch 24/125\n",
            "132/132 - 1s - loss: 0.2910 - val_loss: 0.3024 - 1s/epoch - 9ms/step\n",
            "Epoch 25/125\n",
            "132/132 - 1s - loss: 0.2965 - val_loss: 0.3021 - 1s/epoch - 10ms/step\n",
            "Epoch 26/125\n",
            "132/132 - 1s - loss: 0.2937 - val_loss: 0.3006 - 936ms/epoch - 7ms/step\n",
            "Epoch 27/125\n",
            "132/132 - 1s - loss: 0.2903 - val_loss: 0.2967 - 1s/epoch - 8ms/step\n",
            "Epoch 28/125\n",
            "132/132 - 1s - loss: 0.2837 - val_loss: 0.3110 - 1s/epoch - 8ms/step\n",
            "Epoch 29/125\n",
            "132/132 - 1s - loss: 0.2890 - val_loss: 0.3098 - 917ms/epoch - 7ms/step\n",
            "Epoch 30/125\n",
            "132/132 - 1s - loss: 0.2902 - val_loss: 0.3091 - 1s/epoch - 8ms/step\n",
            "Epoch 31/125\n",
            "132/132 - 1s - loss: 0.2879 - val_loss: 0.2982 - 914ms/epoch - 7ms/step\n",
            "Epoch 32/125\n",
            "132/132 - 1s - loss: 0.2806 - val_loss: 0.2937 - 923ms/epoch - 7ms/step\n",
            "Epoch 33/125\n",
            "132/132 - 1s - loss: 0.2881 - val_loss: 0.3087 - 1s/epoch - 8ms/step\n",
            "Epoch 34/125\n",
            "132/132 - 1s - loss: 0.2797 - val_loss: 0.3031 - 1s/epoch - 8ms/step\n",
            "Epoch 35/125\n",
            "132/132 - 1s - loss: 0.2729 - val_loss: 0.2898 - 1s/epoch - 8ms/step\n",
            "Epoch 36/125\n",
            "132/132 - 1s - loss: 0.2751 - val_loss: 0.2880 - 1s/epoch - 9ms/step\n",
            "Epoch 37/125\n",
            "132/132 - 1s - loss: 0.2835 - val_loss: 0.2908 - 1s/epoch - 9ms/step\n",
            "Epoch 38/125\n",
            "132/132 - 1s - loss: 0.2727 - val_loss: 0.2868 - 1s/epoch - 8ms/step\n",
            "Epoch 39/125\n",
            "132/132 - 1s - loss: 0.2665 - val_loss: 0.2868 - 941ms/epoch - 7ms/step\n",
            "Epoch 40/125\n",
            "132/132 - 1s - loss: 0.2794 - val_loss: 0.2867 - 1s/epoch - 8ms/step\n",
            "Epoch 41/125\n",
            "132/132 - 1s - loss: 0.2716 - val_loss: 0.3066 - 945ms/epoch - 7ms/step\n",
            "Epoch 42/125\n",
            "132/132 - 1s - loss: 0.2720 - val_loss: 0.2850 - 1s/epoch - 8ms/step\n",
            "Epoch 43/125\n",
            "132/132 - 1s - loss: 0.2639 - val_loss: 0.2865 - 937ms/epoch - 7ms/step\n",
            "Epoch 44/125\n",
            "132/132 - 1s - loss: 0.2745 - val_loss: 0.3033 - 948ms/epoch - 7ms/step\n",
            "Epoch 45/125\n",
            "132/132 - 1s - loss: 0.2754 - val_loss: 0.3066 - 912ms/epoch - 7ms/step\n",
            "Epoch 46/125\n",
            "132/132 - 1s - loss: 0.2655 - val_loss: 0.2810 - 902ms/epoch - 7ms/step\n",
            "Epoch 47/125\n",
            "132/132 - 1s - loss: 0.2590 - val_loss: 0.2804 - 939ms/epoch - 7ms/step\n",
            "Epoch 48/125\n",
            "132/132 - 1s - loss: 0.2784 - val_loss: 0.2897 - 926ms/epoch - 7ms/step\n",
            "Epoch 49/125\n",
            "132/132 - 1s - loss: 0.2668 - val_loss: 0.2724 - 1s/epoch - 10ms/step\n",
            "Epoch 50/125\n",
            "132/132 - 1s - loss: 0.2740 - val_loss: 0.2972 - 1s/epoch - 9ms/step\n",
            "Epoch 51/125\n",
            "132/132 - 1s - loss: 0.2647 - val_loss: 0.2773 - 1s/epoch - 9ms/step\n",
            "Epoch 52/125\n",
            "132/132 - 1s - loss: 0.2685 - val_loss: 0.2783 - 1s/epoch - 8ms/step\n",
            "Epoch 53/125\n",
            "132/132 - 1s - loss: 0.2624 - val_loss: 0.2944 - 913ms/epoch - 7ms/step\n",
            "Epoch 54/125\n",
            "132/132 - 1s - loss: 0.2620 - val_loss: 0.3028 - 913ms/epoch - 7ms/step\n",
            "Epoch 55/125\n",
            "132/132 - 1s - loss: 0.2699 - val_loss: 0.2751 - 917ms/epoch - 7ms/step\n",
            "Epoch 56/125\n",
            "132/132 - 1s - loss: 0.2558 - val_loss: 0.2760 - 1s/epoch - 8ms/step\n",
            "Epoch 57/125\n",
            "132/132 - 1s - loss: 0.2579 - val_loss: 0.2841 - 916ms/epoch - 7ms/step\n",
            "Epoch 58/125\n",
            "132/132 - 1s - loss: 0.2588 - val_loss: 0.2890 - 1s/epoch - 8ms/step\n",
            "Epoch 59/125\n",
            "132/132 - 1s - loss: 0.2534 - val_loss: 0.2760 - 916ms/epoch - 7ms/step\n",
            "Epoch 60/125\n",
            "132/132 - 1s - loss: 0.2719 - val_loss: 0.2868 - 948ms/epoch - 7ms/step\n",
            "Epoch 61/125\n",
            "132/132 - 1s - loss: 0.2670 - val_loss: 0.2735 - 1s/epoch - 8ms/step\n",
            "Epoch 62/125\n",
            "132/132 - 1s - loss: 0.2518 - val_loss: 0.2719 - 1s/epoch - 10ms/step\n",
            "Epoch 63/125\n",
            "132/132 - 1s - loss: 0.2525 - val_loss: 0.2825 - 1s/epoch - 9ms/step\n",
            "Epoch 64/125\n",
            "132/132 - 1s - loss: 0.2566 - val_loss: 0.2802 - 1s/epoch - 9ms/step\n",
            "Epoch 65/125\n",
            "132/132 - 1s - loss: 0.2574 - val_loss: 0.2848 - 939ms/epoch - 7ms/step\n",
            "Epoch 66/125\n",
            "132/132 - 1s - loss: 0.2617 - val_loss: 0.3167 - 1s/epoch - 8ms/step\n",
            "Epoch 67/125\n",
            "132/132 - 1s - loss: 0.2519 - val_loss: 0.2660 - 1s/epoch - 8ms/step\n",
            "Epoch 68/125\n",
            "132/132 - 1s - loss: 0.2650 - val_loss: 0.3540 - 922ms/epoch - 7ms/step\n",
            "Epoch 69/125\n",
            "132/132 - 1s - loss: 0.2577 - val_loss: 0.2785 - 928ms/epoch - 7ms/step\n",
            "Epoch 70/125\n",
            "132/132 - 1s - loss: 0.2540 - val_loss: 0.2795 - 1s/epoch - 8ms/step\n",
            "Epoch 71/125\n",
            "132/132 - 1s - loss: 0.2562 - val_loss: 0.2891 - 1s/epoch - 8ms/step\n",
            "Epoch 72/125\n",
            "132/132 - 1s - loss: 0.2490 - val_loss: 0.2670 - 1s/epoch - 8ms/step\n",
            "Epoch 73/125\n",
            "132/132 - 1s - loss: 0.2464 - val_loss: 0.2864 - 898ms/epoch - 7ms/step\n",
            "Epoch 74/125\n",
            "132/132 - 1s - loss: 0.2593 - val_loss: 0.2654 - 951ms/epoch - 7ms/step\n",
            "Epoch 75/125\n",
            "132/132 - 1s - loss: 0.2489 - val_loss: 0.2691 - 1s/epoch - 9ms/step\n",
            "Epoch 76/125\n",
            "132/132 - 1s - loss: 0.2535 - val_loss: 0.2678 - 1s/epoch - 9ms/step\n",
            "Epoch 77/125\n",
            "132/132 - 1s - loss: 0.3373 - val_loss: 0.2975 - 1s/epoch - 9ms/step\n",
            "Epoch 78/125\n",
            "132/132 - 1s - loss: 0.2632 - val_loss: 0.2693 - 957ms/epoch - 7ms/step\n",
            "Epoch 79/125\n",
            "132/132 - 1s - loss: 0.2487 - val_loss: 0.3191 - 901ms/epoch - 7ms/step\n",
            "Epoch 80/125\n",
            "132/132 - 1s - loss: 0.2498 - val_loss: 0.2590 - 956ms/epoch - 7ms/step\n",
            "Epoch 81/125\n",
            "132/132 - 1s - loss: 0.2467 - val_loss: 0.2846 - 943ms/epoch - 7ms/step\n",
            "Epoch 82/125\n",
            "132/132 - 2s - loss: 0.2436 - val_loss: 0.2697 - 2s/epoch - 13ms/step\n",
            "Epoch 83/125\n",
            "132/132 - 2s - loss: 0.2453 - val_loss: 0.2654 - 2s/epoch - 14ms/step\n",
            "Epoch 84/125\n",
            "132/132 - 1s - loss: 0.2448 - val_loss: 0.2562 - 999ms/epoch - 8ms/step\n",
            "Epoch 85/125\n",
            "132/132 - 1s - loss: 0.2437 - val_loss: 0.2703 - 1s/epoch - 8ms/step\n",
            "Epoch 86/125\n",
            "132/132 - 1s - loss: 0.2491 - val_loss: 0.2642 - 1s/epoch - 9ms/step\n",
            "Epoch 87/125\n",
            "132/132 - 1s - loss: 0.2460 - val_loss: 0.2556 - 1s/epoch - 10ms/step\n",
            "Epoch 88/125\n",
            "132/132 - 1s - loss: 0.2429 - val_loss: 0.2548 - 1s/epoch - 10ms/step\n",
            "Epoch 89/125\n",
            "132/132 - 1s - loss: 0.2431 - val_loss: 0.2801 - 1s/epoch - 8ms/step\n",
            "Epoch 90/125\n",
            "132/132 - 1s - loss: 0.2423 - val_loss: 0.2754 - 1s/epoch - 8ms/step\n",
            "Epoch 91/125\n",
            "132/132 - 1s - loss: 0.2388 - val_loss: 0.4050 - 1s/epoch - 9ms/step\n",
            "Epoch 92/125\n",
            "132/132 - 2s - loss: 0.2911 - val_loss: 0.2617 - 2s/epoch - 13ms/step\n",
            "Epoch 93/125\n",
            "132/132 - 2s - loss: 0.2488 - val_loss: 0.2714 - 2s/epoch - 12ms/step\n",
            "Epoch 94/125\n",
            "132/132 - 1s - loss: 0.2406 - val_loss: 0.2557 - 1s/epoch - 11ms/step\n",
            "Epoch 95/125\n",
            "132/132 - 2s - loss: 0.2372 - val_loss: 0.2566 - 2s/epoch - 12ms/step\n",
            "Epoch 96/125\n",
            "132/132 - 1s - loss: 0.2455 - val_loss: 0.2730 - 1s/epoch - 10ms/step\n",
            "Epoch 97/125\n",
            "132/132 - 1s - loss: 0.2407 - val_loss: 0.2552 - 1s/epoch - 11ms/step\n",
            "Epoch 98/125\n",
            "132/132 - 1s - loss: 0.2395 - val_loss: 0.2717 - 1s/epoch - 11ms/step\n",
            "Epoch 99/125\n",
            "132/132 - 1s - loss: 0.2512 - val_loss: 0.2823 - 1s/epoch - 11ms/step\n",
            "Epoch 100/125\n",
            "132/132 - 1s - loss: 0.2414 - val_loss: 0.2524 - 922ms/epoch - 7ms/step\n",
            "Epoch 101/125\n",
            "132/132 - 1s - loss: 0.2342 - val_loss: 0.2470 - 1s/epoch - 8ms/step\n",
            "Epoch 102/125\n",
            "132/132 - 1s - loss: 0.2339 - val_loss: 0.2550 - 1s/epoch - 8ms/step\n",
            "Epoch 103/125\n",
            "132/132 - 1s - loss: 0.2447 - val_loss: 0.2686 - 939ms/epoch - 7ms/step\n",
            "Epoch 104/125\n",
            "132/132 - 1s - loss: 0.2338 - val_loss: 0.2576 - 1s/epoch - 8ms/step\n",
            "Epoch 105/125\n",
            "132/132 - 1s - loss: 0.2347 - val_loss: 0.2921 - 981ms/epoch - 7ms/step\n",
            "Epoch 106/125\n",
            "132/132 - 1s - loss: 0.2346 - val_loss: 0.2474 - 951ms/epoch - 7ms/step\n",
            "Epoch 107/125\n",
            "132/132 - 1s - loss: 0.2320 - val_loss: 0.2660 - 1s/epoch - 8ms/step\n",
            "Epoch 108/125\n",
            "132/132 - 1s - loss: 0.2413 - val_loss: 0.2886 - 1s/epoch - 9ms/step\n",
            "Epoch 109/125\n",
            "132/132 - 1s - loss: 0.2390 - val_loss: 0.3003 - 1s/epoch - 10ms/step\n",
            "Epoch 110/125\n",
            "132/132 - 1s - loss: 0.2427 - val_loss: 0.2468 - 1s/epoch - 10ms/step\n",
            "Epoch 111/125\n",
            "132/132 - 1s - loss: 0.2316 - val_loss: 0.2533 - 1s/epoch - 8ms/step\n",
            "Epoch 112/125\n",
            "132/132 - 1s - loss: 0.2365 - val_loss: 0.2617 - 1s/epoch - 8ms/step\n",
            "Epoch 113/125\n",
            "132/132 - 1s - loss: 0.2374 - val_loss: 0.2937 - 932ms/epoch - 7ms/step\n",
            "Epoch 114/125\n",
            "132/132 - 1s - loss: 0.2398 - val_loss: 0.2461 - 1s/epoch - 8ms/step\n",
            "Epoch 115/125\n",
            "132/132 - 1s - loss: 0.2398 - val_loss: 0.2610 - 946ms/epoch - 7ms/step\n",
            "Epoch 116/125\n",
            "132/132 - 1s - loss: 0.2312 - val_loss: 0.2578 - 969ms/epoch - 7ms/step\n",
            "Epoch 117/125\n",
            "132/132 - 1s - loss: 0.2284 - val_loss: 0.2520 - 1s/epoch - 8ms/step\n",
            "Epoch 118/125\n",
            "132/132 - 1s - loss: 0.2317 - val_loss: 0.2471 - 1s/epoch - 8ms/step\n",
            "Epoch 119/125\n",
            "132/132 - 1s - loss: 0.2365 - val_loss: 0.2523 - 1s/epoch - 8ms/step\n",
            "Epoch 120/125\n",
            "132/132 - 1s - loss: 0.2382 - val_loss: 0.2481 - 1s/epoch - 8ms/step\n",
            "Epoch 121/125\n",
            "132/132 - 1s - loss: 0.2336 - val_loss: 0.2616 - 1s/epoch - 10ms/step\n",
            "Epoch 122/125\n",
            "132/132 - 1s - loss: 0.2336 - val_loss: 0.2420 - 1s/epoch - 10ms/step\n",
            "Epoch 123/125\n",
            "132/132 - 1s - loss: 0.2307 - val_loss: 0.2902 - 1s/epoch - 9ms/step\n",
            "Epoch 124/125\n",
            "132/132 - 1s - loss: 0.2313 - val_loss: 0.2475 - 986ms/epoch - 7ms/step\n",
            "Epoch 125/125\n",
            "132/132 - 1s - loss: 0.2382 - val_loss: 0.2588 - 1s/epoch - 8ms/step\n"
          ]
        }
      ]
    },
    {
      "cell_type": "code",
      "source": [
        "import matplotlib.pyplot as plt\n",
        "import seaborn as sns\n",
        "\n",
        "sns.set_style(\"whitegrid\")"
      ],
      "metadata": {
        "id": "M7XkQMVACqa5"
      },
      "execution_count": null,
      "outputs": []
    },
    {
      "cell_type": "code",
      "source": [
        "plt.figure(figsize=(6,3))\n",
        "plt.plot(history.history[\"loss\"], label=\"training loss\")\n",
        "plt.plot(history.history[\"val_loss\"], label=\"validation loss\")\n",
        "plt.legend()\n",
        "plt.xlabel(\"Epochs\")\n",
        "plt.ylabel(\"Loss\")"
      ],
      "metadata": {
        "colab": {
          "base_uri": "https://localhost:8080/",
          "height": 242
        },
        "id": "XBMIkx5RDlXF",
        "outputId": "d44a3437-3ff6-4972-89b6-46dafaa4bbed"
      },
      "execution_count": null,
      "outputs": [
        {
          "output_type": "execute_result",
          "data": {
            "text/plain": [
              "Text(0, 0.5, 'Loss')"
            ]
          },
          "metadata": {},
          "execution_count": 34
        },
        {
          "output_type": "display_data",
          "data": {
            "text/plain": [
              "<Figure size 432x216 with 1 Axes>"
            ],
            "image/png": "[encoded data removed]"
          },
          "metadata": {}
        }
      ]
    },
    {
      "cell_type": "code",
      "source": [
        "y_test_pred = model.predict(X_test)"
      ],
      "metadata": {
        "colab": {
          "base_uri": "https://localhost:8080/"
        },
        "id": "nL_8iut0Dvj-",
        "outputId": "f3737402-1ec5-47d1-846e-7281e6c7c4bd"
      },
      "execution_count": null,
      "outputs": [
        {
          "output_type": "stream",
          "name": "stdout",
          "text": [
            "65/65 [==============================] - 1s 3ms/step\n"
          ]
        }
      ]
    },
    {
      "cell_type": "code",
      "source": [
        "y_test_pred.shape"
      ],
      "metadata": {
        "colab": {
          "base_uri": "https://localhost:8080/"
        },
        "id": "e_1-GBAfE8Oq",
        "outputId": "d937c252-ece4-41b2-f38f-083f05fd2d3b"
      },
      "execution_count": null,
      "outputs": [
        {
          "output_type": "execute_result",
          "data": {
            "text/plain": [
              "(2068, 3)"
            ]
          },
          "metadata": {},
          "execution_count": 36
        }
      ]
    },
    {
      "cell_type": "code",
      "source": [
        "# toy example\n",
        "# find the maximum value in the array\n",
        "# need to convert back to the categorical variable\n",
        "a = np.arange(9).reshape(3,3) + 1\n",
        "print(a)\n",
        "print(a.shape)\n",
        "np.argmax(a, axis=1)\n",
        "\n",
        "print(y_test.argmax(1))\n",
        "\n"
      ],
      "metadata": {
        "colab": {
          "base_uri": "https://localhost:8080/"
        },
        "id": "gWKgP2VoEAZc",
        "outputId": "a4fe4006-0c6d-4ce1-9a26-f66328d28f4e"
      },
      "execution_count": null,
      "outputs": [
        {
          "output_type": "stream",
          "name": "stdout",
          "text": [
            "[[1 2 3]\n",
            " [4 5 6]\n",
            " [7 8 9]]\n",
            "(3, 3)\n",
            "[1 0 1 ... 0 1 1]\n"
          ]
        }
      ]
    },
    {
      "cell_type": "code",
      "source": [
        "y_test.argmax(1)"
      ],
      "metadata": {
        "colab": {
          "base_uri": "https://localhost:8080/"
        },
        "id": "gPelLakyFRVX",
        "outputId": "a4bb016d-c0e7-40ec-c685-3db94e5ed7a0"
      },
      "execution_count": null,
      "outputs": [
        {
          "output_type": "execute_result",
          "data": {
            "text/plain": [
              "array([1, 0, 1, ..., 0, 1, 1])"
            ]
          },
          "metadata": {},
          "execution_count": 39
        }
      ]
    },
    {
      "cell_type": "code",
      "source": [
        "print(y_test_pred)"
      ],
      "metadata": {
        "colab": {
          "base_uri": "https://localhost:8080/"
        },
        "id": "U5lFKFu6B-03",
        "outputId": "f6de5af7-e50b-4684-d167-642509226c59"
      },
      "execution_count": null,
      "outputs": [
        {
          "output_type": "stream",
          "name": "stdout",
          "text": [
            "[[1.2827347e-02 8.9211857e-01 9.5054068e-02]\n",
            " [9.9547285e-01 4.4717696e-03 5.5333163e-05]\n",
            " [2.1378317e-01 6.5614355e-01 1.3007328e-01]\n",
            " ...\n",
            " [9.9602425e-01 3.9259912e-03 4.9729329e-05]\n",
            " [2.6395256e-03 9.3297505e-01 6.4385451e-02]\n",
            " [1.2827347e-02 8.9211857e-01 9.5054068e-02]]\n"
          ]
        }
      ]
    },
    {
      "cell_type": "code",
      "source": [
        "from sklearn.metrics import classification_report\n",
        "\n",
        "# find the maximum value in the array\n",
        "y_test_pred_labeled = y_test_pred.argmax(1)\n",
        "y_test_labeled = y_test.argmax(1)\n",
        "\n",
        "print('\\n LSTM classification report on test set')\n",
        "print(classification_report(y_test_labeled, y_test_pred_labeled))"
      ],
      "metadata": {
        "colab": {
          "base_uri": "https://localhost:8080/"
        },
        "id": "8oxcuh80ETZJ",
        "outputId": "9eccf888-3b8b-44fc-a7ae-7f81e37c199a"
      },
      "execution_count": null,
      "outputs": [
        {
          "output_type": "stream",
          "name": "stdout",
          "text": [
            "\n",
            " LSTM classification report on test set\n",
            "              precision    recall  f1-score   support\n",
            "\n",
            "           0       0.97      0.94      0.96      1420\n",
            "           1       0.77      0.85      0.81       508\n",
            "           2       0.68      0.57      0.62       140\n",
            "\n",
            "    accuracy                           0.90      2068\n",
            "   macro avg       0.80      0.79      0.79      2068\n",
            "weighted avg       0.90      0.90      0.90      2068\n",
            "\n"
          ]
        }
      ]
    },
    {
      "cell_type": "markdown",
      "source": [
        "# print confusion matrix"
      ],
      "metadata": {
        "id": "XmxtaIkyWCJq"
      }
    },
    {
      "cell_type": "code",
      "source": [
        "\n",
        "from sklearn.metrics import confusion_matrix\n",
        "from sklearn.metrics import classification_report\n",
        "\n",
        "\n",
        "matrix = confusion_matrix(y_test_labeled, y_test_pred_labeled)\n",
        "print(\"RandomForestClassifier Test Set \\n Confusion Matrix: \\n\", matrix)"
      ],
      "metadata": {
        "id": "8KxOWxtpFdaH",
        "colab": {
          "base_uri": "https://localhost:8080/"
        },
        "outputId": "41e0780f-722d-4f72-ff4d-f160e9059469"
      },
      "execution_count": null,
      "outputs": [
        {
          "output_type": "stream",
          "name": "stdout",
          "text": [
            "RandomForestClassifier Test Set \n",
            " Confusion Matrix: \n",
            " [[1341   74    5]\n",
            " [  42  433   33]\n",
            " [   5   55   80]]\n"
          ]
        }
      ]
    },
    {
      "cell_type": "code",
      "source": [],
      "metadata": {
        "id": "-XIDNSUKQPwr"
      },
      "execution_count": null,
      "outputs": []
    }
  ]
}