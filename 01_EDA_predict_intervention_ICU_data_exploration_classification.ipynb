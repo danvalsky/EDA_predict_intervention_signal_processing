{
  "nbformat": 4,
  "nbformat_minor": 0,
  "metadata": {
    "colab": {
      "provenance": []
    },
    "kernelspec": {
      "name": "python3",
      "display_name": "Python 3"
    },
    "language_info": {
      "name": "python"
    },
    "accelerator": "GPU",
    "gpuClass": "standard"
  },
  "cells": [
    {
      "cell_type": "markdown",
      "source": [
        "## The goal here is EDA and Classification"
      ],
      "metadata": {
        "id": "NyvydcKLLLTd"
      }
    },
    {
      "cell_type": "code",
      "execution_count": null,
      "metadata": {
        "id": "6Bk0nKZSsvnr"
      },
      "outputs": [],
      "source": [
        "import numpy as np\n",
        "import pandas as pd\n",
        "import re\n",
        "import matplotlib.pyplot as plt\n",
        "import seaborn as sns\n",
        "\n",
        "from sklearn import preprocessing\n",
        "\n",
        "%matplotlib inline"
      ]
    },
    {
      "cell_type": "code",
      "source": [
        "from google.colab import drive\n",
        "drive.mount(\"/content/gdrive\")\n",
        "df = pd.read_csv(\"/content/train_set.csv\", error_bad_lines=None)\n",
        "df = df.drop(['_temporary_index_column'],axis=1)"
      ],
      "metadata": {
        "id": "AF6KZRIis6a5",
        "outputId": "506b6873-d2a5-424f-ae83-65e796355873",
        "colab": {
          "base_uri": "https://localhost:8080/"
        }
      },
      "execution_count": null,
      "outputs": [
        {
          "output_type": "stream",
          "name": "stdout",
          "text": [
            "Drive already mounted at /content/gdrive; to attempt to forcibly remount, call drive.mount(\"/content/gdrive\", force_remount=True).\n"
          ]
        }
      ]
    },
    {
      "cell_type": "code",
      "source": [
        "df.dtypes"
      ],
      "metadata": {
        "colab": {
          "base_uri": "https://localhost:8080/"
        },
        "id": "w_lDoOx931JZ",
        "outputId": "a29a9f00-c251-4c5e-c92a-31b6e7d1e465"
      },
      "execution_count": null,
      "outputs": [
        {
          "output_type": "execute_result",
          "data": {
            "text/plain": [
              "patient_id         int64\n",
              "timestamp         object\n",
              "measurement_x    float64\n",
              "measurement_y    float64\n",
              "measurement_z    float64\n",
              "label            float64\n",
              "dtype: object"
            ]
          },
          "metadata": {},
          "execution_count": 20
        }
      ]
    },
    {
      "cell_type": "code",
      "source": [
        "df.tail(2)"
      ],
      "metadata": {
        "colab": {
          "base_uri": "https://localhost:8080/",
          "height": 112
        },
        "id": "UWOJlBm3GIos",
        "outputId": "29c2e38b-09de-495f-f029-8927b5c58803"
      },
      "execution_count": null,
      "outputs": [
        {
          "output_type": "execute_result",
          "data": {
            "text/plain": [
              "        patient_id                   timestamp  measurement_x  measurement_y  \\\n",
              "196717        6264  2012-10-29 09:35:14.595852       0.607564       0.139367   \n",
              "196718        6264  2012-10-29 09:35:14.645852       0.611717       0.142630   \n",
              "\n",
              "        measurement_z  label  \n",
              "196717       0.059033    0.0  \n",
              "196718       0.054631    NaN  "
            ],
            "text/html": [
              "\n",
              "  <div id=\"df-5f2c909f-de50-4777-9629-084e27178d5d\">\n",
              "    <div class=\"colab-df-container\">\n",
              "      <div>\n",
              "<style scoped>\n",
              "    .dataframe tbody tr th:only-of-type {\n",
              "        vertical-align: middle;\n",
              "    }\n",
              "\n",
              "    .dataframe tbody tr th {\n",
              "        vertical-align: top;\n",
              "    }\n",
              "\n",
              "    .dataframe thead th {\n",
              "        text-align: right;\n",
              "    }\n",
              "</style>\n",
              "<table border=\"1\" class=\"dataframe\">\n",
              "  <thead>\n",
              "    <tr style=\"text-align: right;\">\n",
              "      <th></th>\n",
              "      <th>patient_id</th>\n",
              "      <th>timestamp</th>\n",
              "      <th>measurement_x</th>\n",
              "      <th>measurement_y</th>\n",
              "      <th>measurement_z</th>\n",
              "      <th>label</th>\n",
              "    </tr>\n",
              "  </thead>\n",
              "  <tbody>\n",
              "    <tr>\n",
              "      <th>196717</th>\n",
              "      <td>6264</td>\n",
              "      <td>2012-10-29 09:35:14.595852</td>\n",
              "      <td>0.607564</td>\n",
              "      <td>0.139367</td>\n",
              "      <td>0.059033</td>\n",
              "      <td>0.0</td>\n",
              "    </tr>\n",
              "    <tr>\n",
              "      <th>196718</th>\n",
              "      <td>6264</td>\n",
              "      <td>2012-10-29 09:35:14.645852</td>\n",
              "      <td>0.611717</td>\n",
              "      <td>0.142630</td>\n",
              "      <td>0.054631</td>\n",
              "      <td>NaN</td>\n",
              "    </tr>\n",
              "  </tbody>\n",
              "</table>\n",
              "</div>\n",
              "      <button class=\"colab-df-convert\" onclick=\"convertToInteractive('df-5f2c909f-de50-4777-9629-084e27178d5d')\"\n",
              "              title=\"Convert this dataframe to an interactive table.\"\n",
              "              style=\"display:none;\">\n",
              "        \n",
              "  <svg xmlns=\"http://www.w3.org/2000/svg\" height=\"24px\"viewBox=\"0 0 24 24\"\n",
              "       width=\"24px\">\n",
              "    <path d=\"M0 0h24v24H0V0z\" fill=\"none\"/>\n",
              "    <path d=\"M18.56 5.44l.94 2.06.94-2.06 2.06-.94-2.06-.94-.94-2.06-.94 2.06-2.06.94zm-11 1L8.5 8.5l.94-2.06 2.06-.94-2.06-.94L8.5 2.5l-.94 2.06-2.06.94zm10 10l.94 2.06.94-2.06 2.06-.94-2.06-.94-.94-2.06-.94 2.06-2.06.94z\"/><path d=\"M17.41 7.96l-1.37-1.37c-.4-.4-.92-.59-1.43-.59-.52 0-1.04.2-1.43.59L10.3 9.45l-7.72 7.72c-.78.78-.78 2.05 0 2.83L4 21.41c.39.39.9.59 1.41.59.51 0 1.02-.2 1.41-.59l7.78-7.78 2.81-2.81c.8-.78.8-2.07 0-2.86zM5.41 20L4 18.59l7.72-7.72 1.47 1.35L5.41 20z\"/>\n",
              "  </svg>\n",
              "      </button>\n",
              "      \n",
              "  <style>\n",
              "    .colab-df-container {\n",
              "      display:flex;\n",
              "      flex-wrap:wrap;\n",
              "      gap: 12px;\n",
              "    }\n",
              "\n",
              "    .colab-df-convert {\n",
              "      background-color: #E8F0FE;\n",
              "      border: none;\n",
              "      border-radius: 50%;\n",
              "      cursor: pointer;\n",
              "      display: none;\n",
              "      fill: #1967D2;\n",
              "      height: 32px;\n",
              "      padding: 0 0 0 0;\n",
              "      width: 32px;\n",
              "    }\n",
              "\n",
              "    .colab-df-convert:hover {\n",
              "      background-color: #E2EBFA;\n",
              "      box-shadow: 0px 1px 2px rgba(60, 64, 67, 0.3), 0px 1px 3px 1px rgba(60, 64, 67, 0.15);\n",
              "      fill: #174EA6;\n",
              "    }\n",
              "\n",
              "    [theme=dark] .colab-df-convert {\n",
              "      background-color: #3B4455;\n",
              "      fill: #D2E3FC;\n",
              "    }\n",
              "\n",
              "    [theme=dark] .colab-df-convert:hover {\n",
              "      background-color: #434B5C;\n",
              "      box-shadow: 0px 1px 3px 1px rgba(0, 0, 0, 0.15);\n",
              "      filter: drop-shadow(0px 1px 2px rgba(0, 0, 0, 0.3));\n",
              "      fill: #FFFFFF;\n",
              "    }\n",
              "  </style>\n",
              "\n",
              "      <script>\n",
              "        const buttonEl =\n",
              "          document.querySelector('#df-5f2c909f-de50-4777-9629-084e27178d5d button.colab-df-convert');\n",
              "        buttonEl.style.display =\n",
              "          google.colab.kernel.accessAllowed ? 'block' : 'none';\n",
              "\n",
              "        async function convertToInteractive(key) {\n",
              "          const element = document.querySelector('#df-5f2c909f-de50-4777-9629-084e27178d5d');\n",
              "          const dataTable =\n",
              "            await google.colab.kernel.invokeFunction('convertToInteractive',\n",
              "                                                     [key], {});\n",
              "          if (!dataTable) return;\n",
              "\n",
              "          const docLinkHtml = 'Like what you see? Visit the ' +\n",
              "            '<a target=\"_blank\" href=https://colab.research.google.com/notebooks/data_table.ipynb>data table notebook</a>'\n",
              "            + ' to learn more about interactive tables.';\n",
              "          element.innerHTML = '';\n",
              "          dataTable['output_type'] = 'display_data';\n",
              "          await google.colab.output.renderOutput(dataTable, element);\n",
              "          const docLink = document.createElement('div');\n",
              "          docLink.innerHTML = docLinkHtml;\n",
              "          element.appendChild(docLink);\n",
              "        }\n",
              "      </script>\n",
              "    </div>\n",
              "  </div>\n",
              "  "
            ]
          },
          "metadata": {},
          "execution_count": 21
        }
      ]
    },
    {
      "cell_type": "code",
      "source": [
        "df.shape"
      ],
      "metadata": {
        "colab": {
          "base_uri": "https://localhost:8080/"
        },
        "id": "vyanqaExGRlD",
        "outputId": "2190e5a7-c2a7-4d08-e3d5-6c0cf28a5150"
      },
      "execution_count": null,
      "outputs": [
        {
          "output_type": "execute_result",
          "data": {
            "text/plain": [
              "(196719, 6)"
            ]
          },
          "metadata": {},
          "execution_count": 22
        }
      ]
    },
    {
      "cell_type": "code",
      "source": [
        "df.groupby(['patient_id']).mean()"
      ],
      "metadata": {
        "colab": {
          "base_uri": "https://localhost:8080/",
          "height": 455
        },
        "id": "wGkTUEnOFqTc",
        "outputId": "ebb4a307-ae32-4dc8-d7fd-ea2712671798"
      },
      "execution_count": null,
      "outputs": [
        {
          "output_type": "execute_result",
          "data": {
            "text/plain": [
              "            measurement_x  measurement_y  measurement_z  label\n",
              "patient_id                                                    \n",
              "0                0.780557      -0.100936       0.061689    1.0\n",
              "1                0.781661      -0.096927       0.061907    1.0\n",
              "2                0.781661      -0.096927       0.061907    1.0\n",
              "3                0.781661      -0.096927       0.061907    1.0\n",
              "4                1.014278       0.143395       0.077963    1.0\n",
              "...                   ...            ...            ...    ...\n",
              "6260             0.403571       0.280378       0.062419    0.0\n",
              "6261             0.403571       0.280378       0.062419    0.0\n",
              "6262             0.624782       0.155807       0.041285    0.0\n",
              "6263             0.624782       0.155807       0.041285    0.0\n",
              "6264             0.586201       0.123855       0.051554    0.0\n",
              "\n",
              "[6265 rows x 4 columns]"
            ],
            "text/html": [
              "\n",
              "  <div id=\"df-c62f6e97-10f9-4254-ad81-947c53518333\">\n",
              "    <div class=\"colab-df-container\">\n",
              "      <div>\n",
              "<style scoped>\n",
              "    .dataframe tbody tr th:only-of-type {\n",
              "        vertical-align: middle;\n",
              "    }\n",
              "\n",
              "    .dataframe tbody tr th {\n",
              "        vertical-align: top;\n",
              "    }\n",
              "\n",
              "    .dataframe thead th {\n",
              "        text-align: right;\n",
              "    }\n",
              "</style>\n",
              "<table border=\"1\" class=\"dataframe\">\n",
              "  <thead>\n",
              "    <tr style=\"text-align: right;\">\n",
              "      <th></th>\n",
              "      <th>measurement_x</th>\n",
              "      <th>measurement_y</th>\n",
              "      <th>measurement_z</th>\n",
              "      <th>label</th>\n",
              "    </tr>\n",
              "    <tr>\n",
              "      <th>patient_id</th>\n",
              "      <th></th>\n",
              "      <th></th>\n",
              "      <th></th>\n",
              "      <th></th>\n",
              "    </tr>\n",
              "  </thead>\n",
              "  <tbody>\n",
              "    <tr>\n",
              "      <th>0</th>\n",
              "      <td>0.780557</td>\n",
              "      <td>-0.100936</td>\n",
              "      <td>0.061689</td>\n",
              "      <td>1.0</td>\n",
              "    </tr>\n",
              "    <tr>\n",
              "      <th>1</th>\n",
              "      <td>0.781661</td>\n",
              "      <td>-0.096927</td>\n",
              "      <td>0.061907</td>\n",
              "      <td>1.0</td>\n",
              "    </tr>\n",
              "    <tr>\n",
              "      <th>2</th>\n",
              "      <td>0.781661</td>\n",
              "      <td>-0.096927</td>\n",
              "      <td>0.061907</td>\n",
              "      <td>1.0</td>\n",
              "    </tr>\n",
              "    <tr>\n",
              "      <th>3</th>\n",
              "      <td>0.781661</td>\n",
              "      <td>-0.096927</td>\n",
              "      <td>0.061907</td>\n",
              "      <td>1.0</td>\n",
              "    </tr>\n",
              "    <tr>\n",
              "      <th>4</th>\n",
              "      <td>1.014278</td>\n",
              "      <td>0.143395</td>\n",
              "      <td>0.077963</td>\n",
              "      <td>1.0</td>\n",
              "    </tr>\n",
              "    <tr>\n",
              "      <th>...</th>\n",
              "      <td>...</td>\n",
              "      <td>...</td>\n",
              "      <td>...</td>\n",
              "      <td>...</td>\n",
              "    </tr>\n",
              "    <tr>\n",
              "      <th>6260</th>\n",
              "      <td>0.403571</td>\n",
              "      <td>0.280378</td>\n",
              "      <td>0.062419</td>\n",
              "      <td>0.0</td>\n",
              "    </tr>\n",
              "    <tr>\n",
              "      <th>6261</th>\n",
              "      <td>0.403571</td>\n",
              "      <td>0.280378</td>\n",
              "      <td>0.062419</td>\n",
              "      <td>0.0</td>\n",
              "    </tr>\n",
              "    <tr>\n",
              "      <th>6262</th>\n",
              "      <td>0.624782</td>\n",
              "      <td>0.155807</td>\n",
              "      <td>0.041285</td>\n",
              "      <td>0.0</td>\n",
              "    </tr>\n",
              "    <tr>\n",
              "      <th>6263</th>\n",
              "      <td>0.624782</td>\n",
              "      <td>0.155807</td>\n",
              "      <td>0.041285</td>\n",
              "      <td>0.0</td>\n",
              "    </tr>\n",
              "    <tr>\n",
              "      <th>6264</th>\n",
              "      <td>0.586201</td>\n",
              "      <td>0.123855</td>\n",
              "      <td>0.051554</td>\n",
              "      <td>0.0</td>\n",
              "    </tr>\n",
              "  </tbody>\n",
              "</table>\n",
              "<p>6265 rows × 4 columns</p>\n",
              "</div>\n",
              "      <button class=\"colab-df-convert\" onclick=\"convertToInteractive('df-c62f6e97-10f9-4254-ad81-947c53518333')\"\n",
              "              title=\"Convert this dataframe to an interactive table.\"\n",
              "              style=\"display:none;\">\n",
              "        \n",
              "  <svg xmlns=\"http://www.w3.org/2000/svg\" height=\"24px\"viewBox=\"0 0 24 24\"\n",
              "       width=\"24px\">\n",
              "    <path d=\"M0 0h24v24H0V0z\" fill=\"none\"/>\n",
              "    <path d=\"M18.56 5.44l.94 2.06.94-2.06 2.06-.94-2.06-.94-.94-2.06-.94 2.06-2.06.94zm-11 1L8.5 8.5l.94-2.06 2.06-.94-2.06-.94L8.5 2.5l-.94 2.06-2.06.94zm10 10l.94 2.06.94-2.06 2.06-.94-2.06-.94-.94-2.06-.94 2.06-2.06.94z\"/><path d=\"M17.41 7.96l-1.37-1.37c-.4-.4-.92-.59-1.43-.59-.52 0-1.04.2-1.43.59L10.3 9.45l-7.72 7.72c-.78.78-.78 2.05 0 2.83L4 21.41c.39.39.9.59 1.41.59.51 0 1.02-.2 1.41-.59l7.78-7.78 2.81-2.81c.8-.78.8-2.07 0-2.86zM5.41 20L4 18.59l7.72-7.72 1.47 1.35L5.41 20z\"/>\n",
              "  </svg>\n",
              "      </button>\n",
              "      \n",
              "  <style>\n",
              "    .colab-df-container {\n",
              "      display:flex;\n",
              "      flex-wrap:wrap;\n",
              "      gap: 12px;\n",
              "    }\n",
              "\n",
              "    .colab-df-convert {\n",
              "      background-color: #E8F0FE;\n",
              "      border: none;\n",
              "      border-radius: 50%;\n",
              "      cursor: pointer;\n",
              "      display: none;\n",
              "      fill: #1967D2;\n",
              "      height: 32px;\n",
              "      padding: 0 0 0 0;\n",
              "      width: 32px;\n",
              "    }\n",
              "\n",
              "    .colab-df-convert:hover {\n",
              "      background-color: #E2EBFA;\n",
              "      box-shadow: 0px 1px 2px rgba(60, 64, 67, 0.3), 0px 1px 3px 1px rgba(60, 64, 67, 0.15);\n",
              "      fill: #174EA6;\n",
              "    }\n",
              "\n",
              "    [theme=dark] .colab-df-convert {\n",
              "      background-color: #3B4455;\n",
              "      fill: #D2E3FC;\n",
              "    }\n",
              "\n",
              "    [theme=dark] .colab-df-convert:hover {\n",
              "      background-color: #434B5C;\n",
              "      box-shadow: 0px 1px 3px 1px rgba(0, 0, 0, 0.15);\n",
              "      filter: drop-shadow(0px 1px 2px rgba(0, 0, 0, 0.3));\n",
              "      fill: #FFFFFF;\n",
              "    }\n",
              "  </style>\n",
              "\n",
              "      <script>\n",
              "        const buttonEl =\n",
              "          document.querySelector('#df-c62f6e97-10f9-4254-ad81-947c53518333 button.colab-df-convert');\n",
              "        buttonEl.style.display =\n",
              "          google.colab.kernel.accessAllowed ? 'block' : 'none';\n",
              "\n",
              "        async function convertToInteractive(key) {\n",
              "          const element = document.querySelector('#df-c62f6e97-10f9-4254-ad81-947c53518333');\n",
              "          const dataTable =\n",
              "            await google.colab.kernel.invokeFunction('convertToInteractive',\n",
              "                                                     [key], {});\n",
              "          if (!dataTable) return;\n",
              "\n",
              "          const docLinkHtml = 'Like what you see? Visit the ' +\n",
              "            '<a target=\"_blank\" href=https://colab.research.google.com/notebooks/data_table.ipynb>data table notebook</a>'\n",
              "            + ' to learn more about interactive tables.';\n",
              "          element.innerHTML = '';\n",
              "          dataTable['output_type'] = 'display_data';\n",
              "          await google.colab.output.renderOutput(dataTable, element);\n",
              "          const docLink = document.createElement('div');\n",
              "          docLink.innerHTML = docLinkHtml;\n",
              "          element.appendChild(docLink);\n",
              "        }\n",
              "      </script>\n",
              "    </div>\n",
              "  </div>\n",
              "  "
            ]
          },
          "metadata": {},
          "execution_count": 23
        }
      ]
    },
    {
      "cell_type": "code",
      "source": [
        "df.groupby(['patient_id']).value_counts()"
      ],
      "metadata": {
        "colab": {
          "base_uri": "https://localhost:8080/"
        },
        "id": "3xhpGxabh_KD",
        "outputId": "ef5a05e2-0237-4ace-9fe1-f04a24592de2"
      },
      "execution_count": null,
      "outputs": [
        {
          "output_type": "execute_result",
          "data": {
            "text/plain": [
              "patient_id  timestamp                   measurement_x  measurement_y  measurement_z  label\n",
              "0           2015-12-29 14:50:34.095000  0.811802        0.015569      0.068855       1.0      1\n",
              "            2015-12-29 14:50:34.145000  0.808880        0.007757      0.073745       1.0      1\n",
              "            2015-12-29 14:50:35.395000  0.762632       -0.194961      0.032832       1.0      1\n",
              "            2015-12-29 14:50:35.445000  0.761877       -0.203266      0.029381       1.0      1\n",
              "            2015-12-29 14:50:35.495000  0.761207       -0.211579      0.026595       1.0      1\n",
              "                                                                                             ..\n",
              "6264        2012-10-29 09:35:14.395852  0.590675        0.126678      0.054897       0.0      1\n",
              "            2012-10-29 09:35:14.445852  0.594938        0.129795      0.054389       0.0      1\n",
              "            2012-10-29 09:35:14.495852  0.599174        0.132950      0.055727       0.0      1\n",
              "            2012-10-29 09:35:14.545852  0.603383        0.136140      0.054727       0.0      1\n",
              "            2012-10-29 09:35:14.595852  0.607564        0.139367      0.059033       0.0      1\n",
              "Length: 196718, dtype: int64"
            ]
          },
          "metadata": {},
          "execution_count": 24
        }
      ]
    },
    {
      "cell_type": "markdown",
      "source": [
        "## Scale the data to 0-1\n",
        "- As seen below in the figures. The data is mostly distributed normally and therefore no need in normalization only scaling.\n",
        "- Drop NA only one last row\n"
      ],
      "metadata": {
        "id": "j6EaZeJUlngd"
      }
    },
    {
      "cell_type": "code",
      "source": [
        "## Scaling the data to 0-1\n",
        "\n",
        "colors = [\"#458B00\",\t\"#0101DF\", \"#DF0101\"]\n",
        "from sklearn import preprocessing\n",
        "\n",
        "df_original = df\n",
        "\n",
        "min_max_scaler  = preprocessing.MinMaxScaler()\n",
        "\n",
        "df[['measurement_x',\n",
        "       'measurement_y', 'measurement_z']] = min_max_scaler.fit_transform(df[['measurement_x',\n",
        "       'measurement_y', 'measurement_z']])\n",
        "\n",
        "\n",
        "#df = df.dropna()\n",
        "#df = df.drop(['_temporary_index_column'], axis=1)\n",
        "df.columns"
      ],
      "metadata": {
        "colab": {
          "base_uri": "https://localhost:8080/"
        },
        "id": "wXVq2Gcm8A1M",
        "outputId": "93c170b5-90cd-48a5-e0aa-28b809daf640"
      },
      "execution_count": null,
      "outputs": [
        {
          "output_type": "execute_result",
          "data": {
            "text/plain": [
              "Index(['patient_id', 'timestamp', 'measurement_x', 'measurement_y',\n",
              "       'measurement_z', 'label'],\n",
              "      dtype='object')"
            ]
          },
          "metadata": {},
          "execution_count": 25
        }
      ]
    },
    {
      "cell_type": "markdown",
      "source": [
        "## Convert timestamp from object to datetime\n",
        "## Remove the date from the timestemp"
      ],
      "metadata": {
        "id": "W5khV8Ix1pqv"
      }
    },
    {
      "cell_type": "code",
      "source": [
        "# Convert timestamp from object to dateime\n",
        "# Remove the date from the timestemp\n",
        "\n",
        "df[\"timestamp\"] = pd.to_datetime(df[\"timestamp\"])\n",
        "\n",
        "df['time'] = df['timestamp'].apply(lambda x: x.value)\n",
        "\n",
        "df.dtypes\n"
      ],
      "metadata": {
        "colab": {
          "base_uri": "https://localhost:8080/"
        },
        "id": "Q6oENOOpqYuN",
        "outputId": "5bff5349-3861-44e0-ad43-7b6e5ccae34d"
      },
      "execution_count": null,
      "outputs": [
        {
          "output_type": "execute_result",
          "data": {
            "text/plain": [
              "patient_id                int64\n",
              "timestamp        datetime64[ns]\n",
              "measurement_x           float64\n",
              "measurement_y           float64\n",
              "measurement_z           float64\n",
              "label                   float64\n",
              "time                      int64\n",
              "dtype: object"
            ]
          },
          "metadata": {},
          "execution_count": 9
        }
      ]
    },
    {
      "cell_type": "markdown",
      "source": [
        "## Plot Distribution of number of measurements per patient"
      ],
      "metadata": {
        "id": "_KuT_-NU3xHQ"
      }
    },
    {
      "cell_type": "code",
      "source": [
        "fig = plt.figure(figsize = (12,6))\n",
        "ax = fig.gca()\n",
        "df.groupby(\"patient_id\").count()[\"measurement_x\"].hist(bins=120,ax = ax)\n",
        "ax.set_title(\"Distribution of number of measurements per patient\", fontsize=24)\n",
        "ax.set_xlabel('Number of measuremnts between patients varies dramatically between 1 to 100',fontdict={'fontsize':14})\n",
        "ax.set_ylabel('Counts',fontdict={'fontsize':14})"
      ],
      "metadata": {
        "id": "v5ederZvuPg7",
        "colab": {
          "base_uri": "https://localhost:8080/",
          "height": 435
        },
        "outputId": "5be1e9a2-43aa-4281-d3f7-9b71e69396d8"
      },
      "execution_count": null,
      "outputs": [
        {
          "output_type": "execute_result",
          "data": {
            "text/plain": [
              "Text(0, 0.5, 'Counts')"
            ]
          },
          "metadata": {},
          "execution_count": 10
        },
        {
          "output_type": "display_data",
          "data": {
            "text/plain": [
              "<Figure size 864x432 with 1 Axes>"
            ],
            "image/png": "[encoded data removed]"
          },
          "metadata": {
            "needs_background": "light"
          }
        }
      ]
    },
    {
      "cell_type": "markdown",
      "source": [
        "Some patients have only one row this would not allow extracting coefficients using polyfit"
      ],
      "metadata": {
        "id": "M8YZbCMDgrC_"
      }
    },
    {
      "cell_type": "markdown",
      "source": [
        "# EDA as a function of time\n",
        "It seems that x and y are always linear and thus can be expressed through one point and their slope.\n",
        "While z is parabolic."
      ],
      "metadata": {
        "id": "xaUARsDIjRE_"
      }
    },
    {
      "cell_type": "code",
      "source": [
        "id = 62\n",
        "patient = df[df[\"patient_id\"] == id]\n",
        "\n",
        "plt.figure()\n",
        "plt.plot(patient.timestamp, patient.measurement_x)\n",
        "plt.plot(patient.timestamp, patient.measurement_y)\n",
        "plt.plot(patient.timestamp, patient.measurement_z)\n",
        "\n",
        "#np.polyfit(x.timestamp, x.measurement_x, 1)\n"
      ],
      "metadata": {
        "id": "zK5WTZ9Rm8JQ",
        "colab": {
          "base_uri": "https://localhost:8080/",
          "height": 282
        },
        "outputId": "1ebbcaed-f956-4dfa-e25e-9ac2d6610298"
      },
      "execution_count": null,
      "outputs": [
        {
          "output_type": "execute_result",
          "data": {
            "text/plain": [
              "[<matplotlib.lines.Line2D at 0x7f4c79e71dc0>]"
            ]
          },
          "metadata": {},
          "execution_count": 25
        },
        {
          "output_type": "display_data",
          "data": {
            "text/plain": [
              "<Figure size 432x288 with 1 Axes>"
            ],
            "image/png": "[encoded data removed]"
          },
          "metadata": {
            "needs_background": "light"
          }
        }
      ]
    },
    {
      "cell_type": "code",
      "source": [
        "value_counts_label = df['label'].value_counts(dropna=True, sort=True)\n",
        "value_counts_label"
      ],
      "metadata": {
        "colab": {
          "base_uri": "https://localhost:8080/"
        },
        "id": "URcrXzui1Q4I",
        "outputId": "b81ae734-66cc-4446-ee6b-f381c4b326e5"
      },
      "execution_count": null,
      "outputs": [
        {
          "output_type": "execute_result",
          "data": {
            "text/plain": [
              "0.0    41672\n",
              "1.0    12056\n",
              "2.0     4793\n",
              "Name: label, dtype: int64"
            ]
          },
          "metadata": {},
          "execution_count": 5
        }
      ]
    },
    {
      "cell_type": "code",
      "source": [
        "# Plot histogram without groupby\n",
        "\n",
        "ax1 = plt.subplot(111)\n",
        "\n",
        "df[df['label']== 0]['measurement_z'].hist(ax=ax1, bins=50, alpha=0.65, color=colors[0], label='Low risk')\n",
        "df[df['label']== 1]['measurement_z'].hist(ax=ax1, bins=50, alpha=0.65, color=colors[1], label='Medium risk')\n",
        "df[df['label']== 2]['measurement_z'].hist(ax=ax1, bins=50, alpha=0.65, color=colors[2], label='High risk')\n",
        "ax1.set_xlim(-0.5,0.5)\n",
        "ax1.legend(loc='best')\n",
        "\n",
        "plt.title(\"measurement_z\")\n",
        "\n",
        "plt.xlabel(\"measurement_z\")\n",
        "plt.ylabel(\"\")"
      ],
      "metadata": {
        "colab": {
          "base_uri": "https://localhost:8080/",
          "height": 313
        },
        "id": "g81VotM94lYh",
        "outputId": "371d6b03-44a4-49f6-b357-143e58cd7ced"
      },
      "execution_count": null,
      "outputs": [
        {
          "output_type": "execute_result",
          "data": {
            "text/plain": [
              "Text(0, 0.5, '')"
            ]
          },
          "metadata": {},
          "execution_count": 7
        },
        {
          "output_type": "display_data",
          "data": {
            "text/plain": [
              "<Figure size 432x288 with 1 Axes>"
            ],
            "image/png": "[encoded data removed]"
          },
          "metadata": {
            "needs_background": "light"
          }
        }
      ]
    },
    {
      "cell_type": "code",
      "source": [
        "f, (ax1, ax2, ax3) = plt.subplots(3, 1, figsize=(20,12))\n",
        "\n",
        "df[df['label']== 0]['measurement_x'].hist(ax=ax1, bins=50, alpha=0.65, color=colors[0], label='Low risk')\n",
        "df[df['label']== 1]['measurement_x'].hist(ax=ax1, bins=50, alpha=0.65, color=colors[1], label='Medium risk')\n",
        "df[df['label']== 2]['measurement_x'].hist(ax=ax1, bins=50, alpha=0.65, color=colors[2], label='High risk')\n",
        "ax1.set_title(\"measurement_x\", fontsize=24)\n",
        "ax1.legend(loc='best')\n",
        "ax1.set_xlim(-1,2)\n",
        "\n",
        "df[df['label']== 0]['measurement_y'].hist(ax=ax2, bins=50, alpha=0.65, color=colors[0], label='Low risk')\n",
        "df[df['label']== 1]['measurement_y'].hist(ax=ax2, bins=50, alpha=0.65, color=colors[1], label='Medium risk')\n",
        "df[df['label']== 2]['measurement_y'].hist(ax=ax2, bins=50, alpha=0.65, color=colors[2], label='High risk')\n",
        "ax2.set_title(\"measurement_y\", fontsize=24)\n",
        "ax2.legend(loc='best')\n",
        "ax2.set_xlim(-1,2)\n",
        "\n",
        "\n",
        "df[df['label']== 0]['measurement_z'].hist(ax=ax3, bins=50, alpha=0.65, color=colors[0], label='Low risk')\n",
        "df[df['label']== 1]['measurement_z'].hist(ax=ax3, bins=50, alpha=0.65, color=colors[1], label='Medium risk')\n",
        "df[df['label']== 2]['measurement_z'].hist(ax=ax3, bins=50, alpha=0.65, color=colors[2], label='High risk')\n",
        "ax3.set_title(\"measurement_z\", fontsize=24)\n",
        "ax3.legend(loc='best')\n",
        "ax3.set_xlim(-1,2)\n"
      ],
      "metadata": {
        "colab": {
          "base_uri": "https://localhost:8080/",
          "height": 741
        },
        "id": "ka106V4n5gtC",
        "outputId": "2ec340af-7c87-4d1b-a83d-f69c844063c5"
      },
      "execution_count": null,
      "outputs": [
        {
          "output_type": "execute_result",
          "data": {
            "text/plain": [
              "(-1.0, 2.0)"
            ]
          },
          "metadata": {},
          "execution_count": 8
        },
        {
          "output_type": "display_data",
          "data": {
            "text/plain": [
              "<Figure size 1440x864 with 3 Axes>"
            ],
            "image/png": "[encoded data removed]"
          },
          "metadata": {
            "needs_background": "light"
          }
        }
      ]
    },
    {
      "cell_type": "code",
      "source": [],
      "metadata": {
        "id": "pmY5F8xnhGd0"
      },
      "execution_count": null,
      "outputs": []
    },
    {
      "cell_type": "markdown",
      "source": [
        "## Histogram of the three measurements (x,y,z) after scaling and density normalization"
      ],
      "metadata": {
        "id": "j6UezTyRobsN"
      }
    },
    {
      "cell_type": "code",
      "source": [
        "f, (ax1, ax2, ax3) = plt.subplots(3, 1, figsize=(20,12))\n",
        "\n",
        "df[df['label']== 0]['measurement_x'].hist(ax=ax1, bins=50, alpha=0.65, density=True, color=colors[0], label='Low risk')\n",
        "df[df['label']== 1]['measurement_x'].hist(ax=ax1, bins=50, alpha=0.65, density=True, color=colors[1], label='Medium risk')\n",
        "df[df['label']== 2]['measurement_x'].hist(ax=ax1, bins=50, alpha=0.65, density=True, color=colors[2], label='High risk')\n",
        "ax1.set_title(\"measurement_x after scaling and density normalization\", fontsize=24)\n",
        "ax1.legend(loc='best')\n",
        "ax1.set_xlim(-0.1,1.1)\n",
        "\n",
        "df[df['label']== 0]['measurement_y'].hist(ax=ax2, bins=50, alpha=0.65, density=True, color=colors[0], label='Low risk')\n",
        "df[df['label']== 1]['measurement_y'].hist(ax=ax2, bins=50, alpha=0.65, density=True, color=colors[1], label='Medium risk')\n",
        "df[df['label']== 2]['measurement_y'].hist(ax=ax2, bins=50, alpha=0.65, density=True, color=colors[2], label='High risk')\n",
        "ax2.set_title(\"measurement_y after scaling and density normalization\", fontsize=24)\n",
        "ax2.legend(loc='best')\n",
        "ax2.set_xlim(-0.1,1.1)\n",
        "\n",
        "\n",
        "df[df['label']== 0]['measurement_z'].hist(ax=ax3, bins=50, alpha=0.65, density=True, color=colors[0], label='Low risk')\n",
        "df[df['label']== 1]['measurement_z'].hist(ax=ax3, bins=50, alpha=0.65, density=True, color=colors[1], label='Medium risk')\n",
        "df[df['label']== 2]['measurement_z'].hist(ax=ax3, bins=50, alpha=0.65, density=True, color=colors[2], label='High risk')\n",
        "ax3.set_title(\"measurement_z after scaling and density normalization\", fontsize=24)\n",
        "ax3.legend(loc='best')\n",
        "ax3.set_xlim(-0.1,1.1)"
      ],
      "metadata": {
        "colab": {
          "base_uri": "https://localhost:8080/",
          "height": 424
        },
        "id": "Hge-VAV0Xzx1",
        "outputId": "a7c29537-8b4d-4c9f-dcc6-7d2da5017c62"
      },
      "execution_count": null,
      "outputs": [
        {
          "output_type": "execute_result",
          "data": {
            "text/plain": [
              "(-0.1, 1.1)"
            ]
          },
          "metadata": {},
          "execution_count": 38
        },
        {
          "output_type": "display_data",
          "data": {
            "text/plain": [
              "<Figure size 1440x864 with 3 Axes>"
            ],
            "image/png": "[encoded data removed]"
          },
          "metadata": {
            "needs_background": "light"
          }
        }
      ]
    },
    {
      "cell_type": "code",
      "source": [
        "import matplotlib.dates\n",
        "ax = plt.subplot()\n",
        "sns.lineplot(x=\"timestamp\", y=\"measurement_x\", data=df_scaled[df_scaled['patient_id'] == 0])\n",
        "sns.lineplot(x=\"timestamp\", y=\"measurement_y\", data=df_scaled[df_scaled['patient_id'] == 0])\n",
        "\n",
        "ax.xaxis.set_major_formatter(\n",
        "    matplotlib.dates.DateFormatter(\"%H:%M\")\n",
        ")\n",
        "\n",
        "plt.show()"
      ],
      "metadata": {
        "colab": {
          "base_uri": "https://localhost:8080/",
          "height": 279
        },
        "id": "8X6IoHNBlJBe",
        "outputId": "9f28855c-52d6-46f3-e663-f39a40b12ffc"
      },
      "execution_count": null,
      "outputs": [
        {
          "output_type": "display_data",
          "data": {
            "text/plain": [
              "<Figure size 432x288 with 1 Axes>"
            ],
            "image/png": "[encoded data removed]"
          },
          "metadata": {
            "needs_background": "light"
          }
        }
      ]
    },
    {
      "cell_type": "code",
      "source": [
        "# explore the behavior in time\n",
        "sns.pairplot(df_scaled, hue='label', vars=['measurement_x','measurement_y', 'measurement_z'], plot_kws=dict(marker=\"+\", linewidth=1))"
      ],
      "metadata": {
        "colab": {
          "base_uri": "https://localhost:8080/",
          "height": 567
        },
        "id": "DDozIpfjpLNY",
        "outputId": "47e2005d-fd8f-4216-a3f2-51a140d153c4"
      },
      "execution_count": null,
      "outputs": [
        {
          "output_type": "execute_result",
          "data": {
            "text/plain": [
              "<seaborn.axisgrid.PairGrid at 0x7f30e0159370>"
            ]
          },
          "metadata": {},
          "execution_count": 20
        },
        {
          "output_type": "display_data",
          "data": {
            "text/plain": [
              "<Figure size 582.375x540 with 12 Axes>"
            ],
            "image/png": "[encoded data removed]"
          },
          "metadata": {
            "needs_background": "light"
          }
        }
      ]
    },
    {
      "cell_type": "code",
      "source": [
        "## box plot to show distributions with respect to categories\n",
        "\n",
        "f, axes = plt.subplots(ncols=3, figsize=(20,4))\n",
        "colors = [\"#458B00\",\t\"#0101DF\", \"#DF0101\"]\n",
        "\n",
        "sns.boxplot(x=\"label\", y=\"measurement_x\", data=df_scaled_wo_nan, palette=colors, ax=axes[0])\n",
        "axes[0].set_title('measurement_x vs label ')\n",
        "\n",
        "sns.boxplot(x=\"label\", y=\"measurement_y\", data=df_scaled_wo_nan, palette=colors, ax=axes[1])\n",
        "axes[1].set_title('measurement_y vs label ')\n",
        "\n",
        "sns.boxplot(x=\"label\", y=\"measurement_z\", data=df_scaled_wo_nan, palette=colors, ax=axes[2])\n",
        "axes[2].set_title('measurement_z vs label ')\n",
        "\n",
        "\n",
        "plt.show()"
      ],
      "metadata": {
        "colab": {
          "base_uri": "https://localhost:8080/",
          "height": 295
        },
        "id": "mnXg6yqxTeyY",
        "outputId": "2903ae22-c946-480e-9389-009ec4762aac"
      },
      "execution_count": null,
      "outputs": [
        {
          "output_type": "display_data",
          "data": {
            "text/plain": [
              "<Figure size 1440x288 with 3 Axes>"
            ],
            "image/png": "[encoded data removed]"
          },
          "metadata": {
            "needs_background": "light"
          }
        }
      ]
    },
    {
      "cell_type": "code",
      "source": [
        "# plot Entire DataFrame but without feature engineering N =\n",
        "\n",
        "f, ax1 = plt.subplots(1, 1, figsize=(14,5))\n",
        "\n",
        "df_wo_extra_columns = df.drop(['time', 'patient_id', 'timestamp'], axis=1)\n",
        "\n",
        "corr = df_wo_extra_columns.corr()\n",
        "sns.heatmap(corr, cmap='coolwarm_r', annot_kws={'size':20}, vmin=-1, vmax=1, annot = True)\n",
        "ax1.set_title(\"Correlation Matrix w/o feature engineering N = 58521\", fontsize=19)"
      ],
      "metadata": {
        "colab": {
          "base_uri": "https://localhost:8080/",
          "height": 284
        },
        "id": "bLWdczgXU47O",
        "outputId": "f3e823f1-845d-40dc-a4aa-f0ddc60db2af"
      },
      "execution_count": null,
      "outputs": [
        {
          "output_type": "execute_result",
          "data": {
            "text/plain": [
              "Text(0.5, 1.0, 'Correlation Matrix w/o feature engineering N = 58521')"
            ]
          },
          "metadata": {},
          "execution_count": 42
        },
        {
          "output_type": "display_data",
          "data": {
            "text/plain": [
              "<Figure size 1008x360 with 2 Axes>"
            ],
            "image/png": "[encoded data removed]"
          },
          "metadata": {
            "needs_background": "light"
          }
        }
      ]
    },
    {
      "cell_type": "markdown",
      "source": [
        "## From Time-serious to tabular matrix\n",
        "# Extract coeficients using polyfit"
      ],
      "metadata": {
        "id": "c5KoD3xLLfSn"
      }
    },
    {
      "cell_type": "code",
      "source": [
        "\n",
        "# The goal is to build new features from the measurement x, y and z\n",
        "# ... because in time domain there is no much information\n",
        "#... bc the length (timestamp) of each patient_id is different, we will need to do zero padding to the longest (101) timeserious to do LSTM, CNN 1D\n",
        "# ... to extract the coeficient use polyfit with 1st degree on the x, and y.\n",
        "# and 2nd degree for the z because it behaves as polynom the results will be the new columns\n",
        "\n",
        "# TO DO: Extract residual from the measurements\n",
        "\n",
        "import matplotlib.dates as dates\n",
        "import warnings\n",
        "warnings.filterwarnings(\"ignore\")\n",
        "\n",
        "# convert the timestemp to values\n",
        "#df['time'] = df['timestamp'].apply(lambda x: x.value)\n",
        "\n",
        "\n",
        "#df_id_index = df.set_index('patient_id')\n",
        "df_id_index = pd.DataFrame()\n",
        "# find the slope and intercept for measurement X\n",
        "df_id_index['fit_measurement_x'] = df.groupby('patient_id').apply(lambda d: np.polyfit(d.time, d.measurement_x, 1))\n",
        "df_id_index[['slope_measurement_x', 'intercept_measurement_x']] = df_id_index.fit_measurement_x.apply(pd.Series)\n",
        "df_id_index = df_id_index.drop(columns='fit_measurement_x')\n",
        "\n",
        "# find the slope and intercept for measurement Y\n",
        "df_id_index['fit_measurement_y'] = df.groupby('patient_id').apply(lambda d: np.polyfit(d.time, d.measurement_y, 1))\n",
        "df_id_index[['slope_measurement_y', 'intercept_measurement_y']] = df_id_index.fit_measurement_y.apply(pd.Series)\n",
        "df_id_index = df_id_index.drop(columns='fit_measurement_y')\n",
        "\n",
        "\n",
        "# find the slope and intercept for measurement Z with second degree\n",
        "df_id_index['fit_measurement_z'] = df.groupby('patient_id').apply(lambda d: np.polyfit(d.time, d.measurement_z, 2))\n",
        "df_id_index[['a_measurement_z', 'b_measurement_z', 'c_measurement_z']] = df_id_index.fit_measurement_z.apply(pd.Series)\n",
        "df_id_index = df_id_index.drop(columns='fit_measurement_z')\n",
        "\n",
        "# need to add the label from the original df\n",
        "df_id_index[\"label\"] = df.groupby(\"patient_id\").mean()[\"label\"]\n",
        "\n",
        "#df_id_index.head()\n",
        "\n",
        "# NEED TO REMOVE THE LAST ROW because it has NaN\n",
        "df_id_index = df_id_index[:-1]\n",
        "\n",
        "df_id_index.tail()\n",
        "\n",
        "# z = np.polyfit(mdates.date2num(df.timestamp), df.measurement_x, 1)\n",
        "# df_id_index = df_id_index.drop(columns='fit_measurement_x')"
      ],
      "metadata": {
        "colab": {
          "base_uri": "https://localhost:8080/",
          "height": 301
        },
        "id": "znjrPmvS6Hwr",
        "outputId": "d248ef3b-3b37-4b43-8a59-735df296f456"
      },
      "execution_count": null,
      "outputs": [
        {
          "output_type": "execute_result",
          "data": {
            "text/plain": [
              "            slope_measurement_x  intercept_measurement_x  slope_measurement_y  \\\n",
              "patient_id                                                                      \n",
              "1175               4.823772e-11            -6.624051e+07        -2.435294e-11   \n",
              "1176               5.109574e-11            -7.016517e+07        -2.580172e-11   \n",
              "1177              -7.793807e-12             1.054474e+07         3.487725e-11   \n",
              "1178              -7.711677e-12             1.043362e+07         3.460148e-11   \n",
              "1179              -7.855142e-12             1.062773e+07         3.532216e-11   \n",
              "\n",
              "            intercept_measurement_y  a_measurement_z  b_measurement_z  \\\n",
              "patient_id                                                              \n",
              "1175                   3.344170e+07     4.744682e-29    -2.652324e-17   \n",
              "1176                   3.543117e+07     4.999839e-29    -2.822300e-17   \n",
              "1177                  -4.718767e+07    -2.014441e-29    -4.260174e-18   \n",
              "1178                  -4.681455e+07    -1.977612e-29     5.558245e-18   \n",
              "1179                  -4.778961e+07    -2.006683e-29    -1.624576e-18   \n",
              "\n",
              "            c_measurement_z  label  \n",
              "patient_id                          \n",
              "1175          -8.947069e+07    1.0  \n",
              "1176          -9.428220e+07    1.0  \n",
              "1177           3.687459e+07    0.0  \n",
              "1178           3.620041e+07    0.0  \n",
              "1179           3.673258e+07    0.0  "
            ],
            "text/html": [
              "\n",
              "  <div id=\"df-a3efaeeb-29f3-4418-86ab-95c84d9aee98\">\n",
              "    <div class=\"colab-df-container\">\n",
              "      <div>\n",
              "<style scoped>\n",
              "    .dataframe tbody tr th:only-of-type {\n",
              "        vertical-align: middle;\n",
              "    }\n",
              "\n",
              "    .dataframe tbody tr th {\n",
              "        vertical-align: top;\n",
              "    }\n",
              "\n",
              "    .dataframe thead th {\n",
              "        text-align: right;\n",
              "    }\n",
              "</style>\n",
              "<table border=\"1\" class=\"dataframe\">\n",
              "  <thead>\n",
              "    <tr style=\"text-align: right;\">\n",
              "      <th></th>\n",
              "      <th>slope_measurement_x</th>\n",
              "      <th>intercept_measurement_x</th>\n",
              "      <th>slope_measurement_y</th>\n",
              "      <th>intercept_measurement_y</th>\n",
              "      <th>a_measurement_z</th>\n",
              "      <th>b_measurement_z</th>\n",
              "      <th>c_measurement_z</th>\n",
              "      <th>label</th>\n",
              "    </tr>\n",
              "    <tr>\n",
              "      <th>patient_id</th>\n",
              "      <th></th>\n",
              "      <th></th>\n",
              "      <th></th>\n",
              "      <th></th>\n",
              "      <th></th>\n",
              "      <th></th>\n",
              "      <th></th>\n",
              "      <th></th>\n",
              "    </tr>\n",
              "  </thead>\n",
              "  <tbody>\n",
              "    <tr>\n",
              "      <th>1175</th>\n",
              "      <td>4.823772e-11</td>\n",
              "      <td>-6.624051e+07</td>\n",
              "      <td>-2.435294e-11</td>\n",
              "      <td>3.344170e+07</td>\n",
              "      <td>4.744682e-29</td>\n",
              "      <td>-2.652324e-17</td>\n",
              "      <td>-8.947069e+07</td>\n",
              "      <td>1.0</td>\n",
              "    </tr>\n",
              "    <tr>\n",
              "      <th>1176</th>\n",
              "      <td>5.109574e-11</td>\n",
              "      <td>-7.016517e+07</td>\n",
              "      <td>-2.580172e-11</td>\n",
              "      <td>3.543117e+07</td>\n",
              "      <td>4.999839e-29</td>\n",
              "      <td>-2.822300e-17</td>\n",
              "      <td>-9.428220e+07</td>\n",
              "      <td>1.0</td>\n",
              "    </tr>\n",
              "    <tr>\n",
              "      <th>1177</th>\n",
              "      <td>-7.793807e-12</td>\n",
              "      <td>1.054474e+07</td>\n",
              "      <td>3.487725e-11</td>\n",
              "      <td>-4.718767e+07</td>\n",
              "      <td>-2.014441e-29</td>\n",
              "      <td>-4.260174e-18</td>\n",
              "      <td>3.687459e+07</td>\n",
              "      <td>0.0</td>\n",
              "    </tr>\n",
              "    <tr>\n",
              "      <th>1178</th>\n",
              "      <td>-7.711677e-12</td>\n",
              "      <td>1.043362e+07</td>\n",
              "      <td>3.460148e-11</td>\n",
              "      <td>-4.681455e+07</td>\n",
              "      <td>-1.977612e-29</td>\n",
              "      <td>5.558245e-18</td>\n",
              "      <td>3.620041e+07</td>\n",
              "      <td>0.0</td>\n",
              "    </tr>\n",
              "    <tr>\n",
              "      <th>1179</th>\n",
              "      <td>-7.855142e-12</td>\n",
              "      <td>1.062773e+07</td>\n",
              "      <td>3.532216e-11</td>\n",
              "      <td>-4.778961e+07</td>\n",
              "      <td>-2.006683e-29</td>\n",
              "      <td>-1.624576e-18</td>\n",
              "      <td>3.673258e+07</td>\n",
              "      <td>0.0</td>\n",
              "    </tr>\n",
              "  </tbody>\n",
              "</table>\n",
              "</div>\n",
              "      <button class=\"colab-df-convert\" onclick=\"convertToInteractive('df-a3efaeeb-29f3-4418-86ab-95c84d9aee98')\"\n",
              "              title=\"Convert this dataframe to an interactive table.\"\n",
              "              style=\"display:none;\">\n",
              "        \n",
              "  <svg xmlns=\"http://www.w3.org/2000/svg\" height=\"24px\"viewBox=\"0 0 24 24\"\n",
              "       width=\"24px\">\n",
              "    <path d=\"M0 0h24v24H0V0z\" fill=\"none\"/>\n",
              "    <path d=\"M18.56 5.44l.94 2.06.94-2.06 2.06-.94-2.06-.94-.94-2.06-.94 2.06-2.06.94zm-11 1L8.5 8.5l.94-2.06 2.06-.94-2.06-.94L8.5 2.5l-.94 2.06-2.06.94zm10 10l.94 2.06.94-2.06 2.06-.94-2.06-.94-.94-2.06-.94 2.06-2.06.94z\"/><path d=\"M17.41 7.96l-1.37-1.37c-.4-.4-.92-.59-1.43-.59-.52 0-1.04.2-1.43.59L10.3 9.45l-7.72 7.72c-.78.78-.78 2.05 0 2.83L4 21.41c.39.39.9.59 1.41.59.51 0 1.02-.2 1.41-.59l7.78-7.78 2.81-2.81c.8-.78.8-2.07 0-2.86zM5.41 20L4 18.59l7.72-7.72 1.47 1.35L5.41 20z\"/>\n",
              "  </svg>\n",
              "      </button>\n",
              "      \n",
              "  <style>\n",
              "    .colab-df-container {\n",
              "      display:flex;\n",
              "      flex-wrap:wrap;\n",
              "      gap: 12px;\n",
              "    }\n",
              "\n",
              "    .colab-df-convert {\n",
              "      background-color: #E8F0FE;\n",
              "      border: none;\n",
              "      border-radius: 50%;\n",
              "      cursor: pointer;\n",
              "      display: none;\n",
              "      fill: #1967D2;\n",
              "      height: 32px;\n",
              "      padding: 0 0 0 0;\n",
              "      width: 32px;\n",
              "    }\n",
              "\n",
              "    .colab-df-convert:hover {\n",
              "      background-color: #E2EBFA;\n",
              "      box-shadow: 0px 1px 2px rgba(60, 64, 67, 0.3), 0px 1px 3px 1px rgba(60, 64, 67, 0.15);\n",
              "      fill: #174EA6;\n",
              "    }\n",
              "\n",
              "    [theme=dark] .colab-df-convert {\n",
              "      background-color: #3B4455;\n",
              "      fill: #D2E3FC;\n",
              "    }\n",
              "\n",
              "    [theme=dark] .colab-df-convert:hover {\n",
              "      background-color: #434B5C;\n",
              "      box-shadow: 0px 1px 3px 1px rgba(0, 0, 0, 0.15);\n",
              "      filter: drop-shadow(0px 1px 2px rgba(0, 0, 0, 0.3));\n",
              "      fill: #FFFFFF;\n",
              "    }\n",
              "  </style>\n",
              "\n",
              "      <script>\n",
              "        const buttonEl =\n",
              "          document.querySelector('#df-a3efaeeb-29f3-4418-86ab-95c84d9aee98 button.colab-df-convert');\n",
              "        buttonEl.style.display =\n",
              "          google.colab.kernel.accessAllowed ? 'block' : 'none';\n",
              "\n",
              "        async function convertToInteractive(key) {\n",
              "          const element = document.querySelector('#df-a3efaeeb-29f3-4418-86ab-95c84d9aee98');\n",
              "          const dataTable =\n",
              "            await google.colab.kernel.invokeFunction('convertToInteractive',\n",
              "                                                     [key], {});\n",
              "          if (!dataTable) return;\n",
              "\n",
              "          const docLinkHtml = 'Like what you see? Visit the ' +\n",
              "            '<a target=\"_blank\" href=https://colab.research.google.com/notebooks/data_table.ipynb>data table notebook</a>'\n",
              "            + ' to learn more about interactive tables.';\n",
              "          element.innerHTML = '';\n",
              "          dataTable['output_type'] = 'display_data';\n",
              "          await google.colab.output.renderOutput(dataTable, element);\n",
              "          const docLink = document.createElement('div');\n",
              "          docLink.innerHTML = docLinkHtml;\n",
              "          element.appendChild(docLink);\n",
              "        }\n",
              "      </script>\n",
              "    </div>\n",
              "  </div>\n",
              "  "
            ]
          },
          "metadata": {},
          "execution_count": 11
        }
      ]
    },
    {
      "cell_type": "code",
      "source": [
        "# Scaling\n",
        "from sklearn import preprocessing\n",
        "\n",
        "df_agg = df_id_index.copy()\n",
        "min_max_scaler  = preprocessing.MinMaxScaler()\n",
        "\n",
        "features = [\"slope_measurement_x\",\n",
        "            \"intercept_measurement_x\",\n",
        "            \"slope_measurement_y\",\n",
        "            \"intercept_measurement_y\",\n",
        "            \"a_measurement_z\",\n",
        "            \"b_measurement_z\",\n",
        "            \"c_measurement_z\"]\n",
        "\n",
        "df_agg[features] = min_max_scaler.fit_transform(df_agg[features])\n",
        "df_agg.head()"
      ],
      "metadata": {
        "id": "UJJkGRkQzzyu",
        "colab": {
          "base_uri": "https://localhost:8080/",
          "height": 301
        },
        "outputId": "2ae9bc3f-7843-49f0-d75a-77fe607b9aad"
      },
      "execution_count": null,
      "outputs": [
        {
          "output_type": "execute_result",
          "data": {
            "text/plain": [
              "            slope_measurement_x  intercept_measurement_x  slope_measurement_y  \\\n",
              "patient_id                                                                      \n",
              "0                      0.413356                 0.589992             0.219867   \n",
              "1                      0.411483                 0.591931             0.220263   \n",
              "2                      0.411483                 0.591931             0.220262   \n",
              "3                      0.411483                 0.591931             0.220262   \n",
              "4                      0.761972                 0.243316             0.569657   \n",
              "\n",
              "            intercept_measurement_y  a_measurement_z  b_measurement_z  \\\n",
              "patient_id                                                              \n",
              "0                          0.790441     2.388645e-29     2.771380e-16   \n",
              "1                          0.790039     2.600788e-29     2.796692e-16   \n",
              "2                          0.790040     2.600788e-29     2.841745e-16   \n",
              "3                          0.790040     2.600788e-29     2.792577e-16   \n",
              "4                          0.437323     8.065205e-29     2.721322e-16   \n",
              "\n",
              "            c_measurement_z  label  \n",
              "patient_id                          \n",
              "0                  0.898154    1.0  \n",
              "1                  0.885581    1.0  \n",
              "2                  0.885581    1.0  \n",
              "3                  0.885581    1.0  \n",
              "4                  0.577668    1.0  "
            ],
            "text/html": [
              "\n",
              "  <div id=\"df-0051ddca-b4a7-4311-8226-2ec6d7a4d67b\">\n",
              "    <div class=\"colab-df-container\">\n",
              "      <div>\n",
              "<style scoped>\n",
              "    .dataframe tbody tr th:only-of-type {\n",
              "        vertical-align: middle;\n",
              "    }\n",
              "\n",
              "    .dataframe tbody tr th {\n",
              "        vertical-align: top;\n",
              "    }\n",
              "\n",
              "    .dataframe thead th {\n",
              "        text-align: right;\n",
              "    }\n",
              "</style>\n",
              "<table border=\"1\" class=\"dataframe\">\n",
              "  <thead>\n",
              "    <tr style=\"text-align: right;\">\n",
              "      <th></th>\n",
              "      <th>slope_measurement_x</th>\n",
              "      <th>intercept_measurement_x</th>\n",
              "      <th>slope_measurement_y</th>\n",
              "      <th>intercept_measurement_y</th>\n",
              "      <th>a_measurement_z</th>\n",
              "      <th>b_measurement_z</th>\n",
              "      <th>c_measurement_z</th>\n",
              "      <th>label</th>\n",
              "    </tr>\n",
              "    <tr>\n",
              "      <th>patient_id</th>\n",
              "      <th></th>\n",
              "      <th></th>\n",
              "      <th></th>\n",
              "      <th></th>\n",
              "      <th></th>\n",
              "      <th></th>\n",
              "      <th></th>\n",
              "      <th></th>\n",
              "    </tr>\n",
              "  </thead>\n",
              "  <tbody>\n",
              "    <tr>\n",
              "      <th>0</th>\n",
              "      <td>0.413356</td>\n",
              "      <td>0.589992</td>\n",
              "      <td>0.219867</td>\n",
              "      <td>0.790441</td>\n",
              "      <td>2.388645e-29</td>\n",
              "      <td>2.771380e-16</td>\n",
              "      <td>0.898154</td>\n",
              "      <td>1.0</td>\n",
              "    </tr>\n",
              "    <tr>\n",
              "      <th>1</th>\n",
              "      <td>0.411483</td>\n",
              "      <td>0.591931</td>\n",
              "      <td>0.220263</td>\n",
              "      <td>0.790039</td>\n",
              "      <td>2.600788e-29</td>\n",
              "      <td>2.796692e-16</td>\n",
              "      <td>0.885581</td>\n",
              "      <td>1.0</td>\n",
              "    </tr>\n",
              "    <tr>\n",
              "      <th>2</th>\n",
              "      <td>0.411483</td>\n",
              "      <td>0.591931</td>\n",
              "      <td>0.220262</td>\n",
              "      <td>0.790040</td>\n",
              "      <td>2.600788e-29</td>\n",
              "      <td>2.841745e-16</td>\n",
              "      <td>0.885581</td>\n",
              "      <td>1.0</td>\n",
              "    </tr>\n",
              "    <tr>\n",
              "      <th>3</th>\n",
              "      <td>0.411483</td>\n",
              "      <td>0.591931</td>\n",
              "      <td>0.220262</td>\n",
              "      <td>0.790040</td>\n",
              "      <td>2.600788e-29</td>\n",
              "      <td>2.792577e-16</td>\n",
              "      <td>0.885581</td>\n",
              "      <td>1.0</td>\n",
              "    </tr>\n",
              "    <tr>\n",
              "      <th>4</th>\n",
              "      <td>0.761972</td>\n",
              "      <td>0.243316</td>\n",
              "      <td>0.569657</td>\n",
              "      <td>0.437323</td>\n",
              "      <td>8.065205e-29</td>\n",
              "      <td>2.721322e-16</td>\n",
              "      <td>0.577668</td>\n",
              "      <td>1.0</td>\n",
              "    </tr>\n",
              "  </tbody>\n",
              "</table>\n",
              "</div>\n",
              "      <button class=\"colab-df-convert\" onclick=\"convertToInteractive('df-0051ddca-b4a7-4311-8226-2ec6d7a4d67b')\"\n",
              "              title=\"Convert this dataframe to an interactive table.\"\n",
              "              style=\"display:none;\">\n",
              "        \n",
              "  <svg xmlns=\"http://www.w3.org/2000/svg\" height=\"24px\"viewBox=\"0 0 24 24\"\n",
              "       width=\"24px\">\n",
              "    <path d=\"M0 0h24v24H0V0z\" fill=\"none\"/>\n",
              "    <path d=\"M18.56 5.44l.94 2.06.94-2.06 2.06-.94-2.06-.94-.94-2.06-.94 2.06-2.06.94zm-11 1L8.5 8.5l.94-2.06 2.06-.94-2.06-.94L8.5 2.5l-.94 2.06-2.06.94zm10 10l.94 2.06.94-2.06 2.06-.94-2.06-.94-.94-2.06-.94 2.06-2.06.94z\"/><path d=\"M17.41 7.96l-1.37-1.37c-.4-.4-.92-.59-1.43-.59-.52 0-1.04.2-1.43.59L10.3 9.45l-7.72 7.72c-.78.78-.78 2.05 0 2.83L4 21.41c.39.39.9.59 1.41.59.51 0 1.02-.2 1.41-.59l7.78-7.78 2.81-2.81c.8-.78.8-2.07 0-2.86zM5.41 20L4 18.59l7.72-7.72 1.47 1.35L5.41 20z\"/>\n",
              "  </svg>\n",
              "      </button>\n",
              "      \n",
              "  <style>\n",
              "    .colab-df-container {\n",
              "      display:flex;\n",
              "      flex-wrap:wrap;\n",
              "      gap: 12px;\n",
              "    }\n",
              "\n",
              "    .colab-df-convert {\n",
              "      background-color: #E8F0FE;\n",
              "      border: none;\n",
              "      border-radius: 50%;\n",
              "      cursor: pointer;\n",
              "      display: none;\n",
              "      fill: #1967D2;\n",
              "      height: 32px;\n",
              "      padding: 0 0 0 0;\n",
              "      width: 32px;\n",
              "    }\n",
              "\n",
              "    .colab-df-convert:hover {\n",
              "      background-color: #E2EBFA;\n",
              "      box-shadow: 0px 1px 2px rgba(60, 64, 67, 0.3), 0px 1px 3px 1px rgba(60, 64, 67, 0.15);\n",
              "      fill: #174EA6;\n",
              "    }\n",
              "\n",
              "    [theme=dark] .colab-df-convert {\n",
              "      background-color: #3B4455;\n",
              "      fill: #D2E3FC;\n",
              "    }\n",
              "\n",
              "    [theme=dark] .colab-df-convert:hover {\n",
              "      background-color: #434B5C;\n",
              "      box-shadow: 0px 1px 3px 1px rgba(0, 0, 0, 0.15);\n",
              "      filter: drop-shadow(0px 1px 2px rgba(0, 0, 0, 0.3));\n",
              "      fill: #FFFFFF;\n",
              "    }\n",
              "  </style>\n",
              "\n",
              "      <script>\n",
              "        const buttonEl =\n",
              "          document.querySelector('#df-0051ddca-b4a7-4311-8226-2ec6d7a4d67b button.colab-df-convert');\n",
              "        buttonEl.style.display =\n",
              "          google.colab.kernel.accessAllowed ? 'block' : 'none';\n",
              "\n",
              "        async function convertToInteractive(key) {\n",
              "          const element = document.querySelector('#df-0051ddca-b4a7-4311-8226-2ec6d7a4d67b');\n",
              "          const dataTable =\n",
              "            await google.colab.kernel.invokeFunction('convertToInteractive',\n",
              "                                                     [key], {});\n",
              "          if (!dataTable) return;\n",
              "\n",
              "          const docLinkHtml = 'Like what you see? Visit the ' +\n",
              "            '<a target=\"_blank\" href=https://colab.research.google.com/notebooks/data_table.ipynb>data table notebook</a>'\n",
              "            + ' to learn more about interactive tables.';\n",
              "          element.innerHTML = '';\n",
              "          dataTable['output_type'] = 'display_data';\n",
              "          await google.colab.output.renderOutput(dataTable, element);\n",
              "          const docLink = document.createElement('div');\n",
              "          docLink.innerHTML = docLinkHtml;\n",
              "          element.appendChild(docLink);\n",
              "        }\n",
              "      </script>\n",
              "    </div>\n",
              "  </div>\n",
              "  "
            ]
          },
          "metadata": {},
          "execution_count": 12
        }
      ]
    },
    {
      "cell_type": "code",
      "source": [
        "sns.pairplot(df_agg, hue='label', plot_kws=dict(marker=\"+\", linewidth=1))"
      ],
      "metadata": {
        "id": "BDbZWApwzzY_"
      },
      "execution_count": null,
      "outputs": []
    },
    {
      "cell_type": "code",
      "source": [
        "sns.heatmap(df_agg.corr(), annot=True)"
      ],
      "metadata": {
        "id": "NBMzszHk2KTY"
      },
      "execution_count": null,
      "outputs": []
    },
    {
      "cell_type": "markdown",
      "source": [
        "Functionalization of preprocessing and feature extraction"
      ],
      "metadata": {
        "id": "iJK5AzKXzhzg"
      }
    },
    {
      "cell_type": "code",
      "source": [],
      "metadata": {
        "id": "wMHFwq4H67bx"
      },
      "execution_count": null,
      "outputs": []
    },
    {
      "cell_type": "code",
      "source": [
        "def extract_patient_stats(df):\n",
        "\n",
        "    # Group the input dataframe by patient_id\n",
        "    grouped = df.groupby('patient_id')\n",
        "\n",
        "    # Use agg to calculate mean, std, max, min for x, y, and z for each group\n",
        "    agg_dict = {\n",
        "        'measurement_x': ['mean', 'std', 'max', 'min'],\n",
        "        'measurement_y': ['mean', 'std', 'max', 'min'],\n",
        "        'measurement_z': ['mean', 'std', 'max', 'min']\n",
        "    }\n",
        "    patient_stats = grouped.agg(agg_dict)\n",
        "\n",
        "    # Flatten the resulting dataframe's multi-index columns\n",
        "    patient_stats.columns = [f\"{col[0]}_{col[1]}\" for col in patient_stats.columns]\n",
        "\n",
        "    return patient_stats.reset_index()\n",
        "\n",
        "test_function_extraction = extract_patient_stats(df.drop(columns=\"timestamp\"))\n",
        "\n",
        "test_function_extraction.head()"
      ],
      "metadata": {
        "id": "3O6lJGXu18Dz",
        "colab": {
          "base_uri": "https://localhost:8080/",
          "height": 270
        },
        "outputId": "1018ad3b-5884-4b16-8ad5-9e9687703ed0"
      },
      "execution_count": null,
      "outputs": [
        {
          "output_type": "execute_result",
          "data": {
            "text/plain": [
              "   patient_id  measurement_x_mean  measurement_x_std  measurement_x_max  \\\n",
              "0           0            0.525537           0.007067           0.539500   \n",
              "1           1            0.526031           0.007472           0.540841   \n",
              "2           2            0.526031           0.007472           0.540841   \n",
              "3           3            0.526031           0.007472           0.540841   \n",
              "4           4            0.629983           0.011894           0.648547   \n",
              "\n",
              "   measurement_x_min  measurement_y_mean  measurement_y_std  \\\n",
              "0           0.516629            0.312309           0.030630   \n",
              "1           0.516629            0.314024           0.031594   \n",
              "2           0.516629            0.314024           0.031594   \n",
              "3           0.516629            0.314024           0.031594   \n",
              "4           0.611318            0.416865           0.005458   \n",
              "\n",
              "   measurement_y_max  measurement_y_min  measurement_z_mean  \\\n",
              "0           0.362164           0.261401            0.142070   \n",
              "1           0.365494           0.261401            0.142545   \n",
              "2           0.365494           0.261401            0.142545   \n",
              "3           0.365494           0.261401            0.142545   \n",
              "4           0.421763           0.399192            0.177539   \n",
              "\n",
              "   measurement_z_std  measurement_z_max  measurement_z_min  \n",
              "0           0.039804           0.182118           0.044226  \n",
              "1           0.039225           0.182118           0.044226  \n",
              "2           0.039225           0.182118           0.044226  \n",
              "3           0.039225           0.182118           0.044226  \n",
              "4           0.016330           0.196618           0.141450  "
            ],
            "text/html": [
              "\n",
              "  <div id=\"df-2ac6d468-b54a-4202-94e0-c7ea3a5cdfda\">\n",
              "    <div class=\"colab-df-container\">\n",
              "      <div>\n",
              "<style scoped>\n",
              "    .dataframe tbody tr th:only-of-type {\n",
              "        vertical-align: middle;\n",
              "    }\n",
              "\n",
              "    .dataframe tbody tr th {\n",
              "        vertical-align: top;\n",
              "    }\n",
              "\n",
              "    .dataframe thead th {\n",
              "        text-align: right;\n",
              "    }\n",
              "</style>\n",
              "<table border=\"1\" class=\"dataframe\">\n",
              "  <thead>\n",
              "    <tr style=\"text-align: right;\">\n",
              "      <th></th>\n",
              "      <th>patient_id</th>\n",
              "      <th>measurement_x_mean</th>\n",
              "      <th>measurement_x_std</th>\n",
              "      <th>measurement_x_max</th>\n",
              "      <th>measurement_x_min</th>\n",
              "      <th>measurement_y_mean</th>\n",
              "      <th>measurement_y_std</th>\n",
              "      <th>measurement_y_max</th>\n",
              "      <th>measurement_y_min</th>\n",
              "      <th>measurement_z_mean</th>\n",
              "      <th>measurement_z_std</th>\n",
              "      <th>measurement_z_max</th>\n",
              "      <th>measurement_z_min</th>\n",
              "    </tr>\n",
              "  </thead>\n",
              "  <tbody>\n",
              "    <tr>\n",
              "      <th>0</th>\n",
              "      <td>0</td>\n",
              "      <td>0.525537</td>\n",
              "      <td>0.007067</td>\n",
              "      <td>0.539500</td>\n",
              "      <td>0.516629</td>\n",
              "      <td>0.312309</td>\n",
              "      <td>0.030630</td>\n",
              "      <td>0.362164</td>\n",
              "      <td>0.261401</td>\n",
              "      <td>0.142070</td>\n",
              "      <td>0.039804</td>\n",
              "      <td>0.182118</td>\n",
              "      <td>0.044226</td>\n",
              "    </tr>\n",
              "    <tr>\n",
              "      <th>1</th>\n",
              "      <td>1</td>\n",
              "      <td>0.526031</td>\n",
              "      <td>0.007472</td>\n",
              "      <td>0.540841</td>\n",
              "      <td>0.516629</td>\n",
              "      <td>0.314024</td>\n",
              "      <td>0.031594</td>\n",
              "      <td>0.365494</td>\n",
              "      <td>0.261401</td>\n",
              "      <td>0.142545</td>\n",
              "      <td>0.039225</td>\n",
              "      <td>0.182118</td>\n",
              "      <td>0.044226</td>\n",
              "    </tr>\n",
              "    <tr>\n",
              "      <th>2</th>\n",
              "      <td>2</td>\n",
              "      <td>0.526031</td>\n",
              "      <td>0.007472</td>\n",
              "      <td>0.540841</td>\n",
              "      <td>0.516629</td>\n",
              "      <td>0.314024</td>\n",
              "      <td>0.031594</td>\n",
              "      <td>0.365494</td>\n",
              "      <td>0.261401</td>\n",
              "      <td>0.142545</td>\n",
              "      <td>0.039225</td>\n",
              "      <td>0.182118</td>\n",
              "      <td>0.044226</td>\n",
              "    </tr>\n",
              "    <tr>\n",
              "      <th>3</th>\n",
              "      <td>3</td>\n",
              "      <td>0.526031</td>\n",
              "      <td>0.007472</td>\n",
              "      <td>0.540841</td>\n",
              "      <td>0.516629</td>\n",
              "      <td>0.314024</td>\n",
              "      <td>0.031594</td>\n",
              "      <td>0.365494</td>\n",
              "      <td>0.261401</td>\n",
              "      <td>0.142545</td>\n",
              "      <td>0.039225</td>\n",
              "      <td>0.182118</td>\n",
              "      <td>0.044226</td>\n",
              "    </tr>\n",
              "    <tr>\n",
              "      <th>4</th>\n",
              "      <td>4</td>\n",
              "      <td>0.629983</td>\n",
              "      <td>0.011894</td>\n",
              "      <td>0.648547</td>\n",
              "      <td>0.611318</td>\n",
              "      <td>0.416865</td>\n",
              "      <td>0.005458</td>\n",
              "      <td>0.421763</td>\n",
              "      <td>0.399192</td>\n",
              "      <td>0.177539</td>\n",
              "      <td>0.016330</td>\n",
              "      <td>0.196618</td>\n",
              "      <td>0.141450</td>\n",
              "    </tr>\n",
              "  </tbody>\n",
              "</table>\n",
              "</div>\n",
              "      <button class=\"colab-df-convert\" onclick=\"convertToInteractive('df-2ac6d468-b54a-4202-94e0-c7ea3a5cdfda')\"\n",
              "              title=\"Convert this dataframe to an interactive table.\"\n",
              "              style=\"display:none;\">\n",
              "        \n",
              "  <svg xmlns=\"http://www.w3.org/2000/svg\" height=\"24px\"viewBox=\"0 0 24 24\"\n",
              "       width=\"24px\">\n",
              "    <path d=\"M0 0h24v24H0V0z\" fill=\"none\"/>\n",
              "    <path d=\"M18.56 5.44l.94 2.06.94-2.06 2.06-.94-2.06-.94-.94-2.06-.94 2.06-2.06.94zm-11 1L8.5 8.5l.94-2.06 2.06-.94-2.06-.94L8.5 2.5l-.94 2.06-2.06.94zm10 10l.94 2.06.94-2.06 2.06-.94-2.06-.94-.94-2.06-.94 2.06-2.06.94z\"/><path d=\"M17.41 7.96l-1.37-1.37c-.4-.4-.92-.59-1.43-.59-.52 0-1.04.2-1.43.59L10.3 9.45l-7.72 7.72c-.78.78-.78 2.05 0 2.83L4 21.41c.39.39.9.59 1.41.59.51 0 1.02-.2 1.41-.59l7.78-7.78 2.81-2.81c.8-.78.8-2.07 0-2.86zM5.41 20L4 18.59l7.72-7.72 1.47 1.35L5.41 20z\"/>\n",
              "  </svg>\n",
              "      </button>\n",
              "      \n",
              "  <style>\n",
              "    .colab-df-container {\n",
              "      display:flex;\n",
              "      flex-wrap:wrap;\n",
              "      gap: 12px;\n",
              "    }\n",
              "\n",
              "    .colab-df-convert {\n",
              "      background-color: #E8F0FE;\n",
              "      border: none;\n",
              "      border-radius: 50%;\n",
              "      cursor: pointer;\n",
              "      display: none;\n",
              "      fill: #1967D2;\n",
              "      height: 32px;\n",
              "      padding: 0 0 0 0;\n",
              "      width: 32px;\n",
              "    }\n",
              "\n",
              "    .colab-df-convert:hover {\n",
              "      background-color: #E2EBFA;\n",
              "      box-shadow: 0px 1px 2px rgba(60, 64, 67, 0.3), 0px 1px 3px 1px rgba(60, 64, 67, 0.15);\n",
              "      fill: #174EA6;\n",
              "    }\n",
              "\n",
              "    [theme=dark] .colab-df-convert {\n",
              "      background-color: #3B4455;\n",
              "      fill: #D2E3FC;\n",
              "    }\n",
              "\n",
              "    [theme=dark] .colab-df-convert:hover {\n",
              "      background-color: #434B5C;\n",
              "      box-shadow: 0px 1px 3px 1px rgba(0, 0, 0, 0.15);\n",
              "      filter: drop-shadow(0px 1px 2px rgba(0, 0, 0, 0.3));\n",
              "      fill: #FFFFFF;\n",
              "    }\n",
              "  </style>\n",
              "\n",
              "      <script>\n",
              "        const buttonEl =\n",
              "          document.querySelector('#df-2ac6d468-b54a-4202-94e0-c7ea3a5cdfda button.colab-df-convert');\n",
              "        buttonEl.style.display =\n",
              "          google.colab.kernel.accessAllowed ? 'block' : 'none';\n",
              "\n",
              "        async function convertToInteractive(key) {\n",
              "          const element = document.querySelector('#df-2ac6d468-b54a-4202-94e0-c7ea3a5cdfda');\n",
              "          const dataTable =\n",
              "            await google.colab.kernel.invokeFunction('convertToInteractive',\n",
              "                                                     [key], {});\n",
              "          if (!dataTable) return;\n",
              "\n",
              "          const docLinkHtml = 'Like what you see? Visit the ' +\n",
              "            '<a target=\"_blank\" href=https://colab.research.google.com/notebooks/data_table.ipynb>data table notebook</a>'\n",
              "            + ' to learn more about interactive tables.';\n",
              "          element.innerHTML = '';\n",
              "          dataTable['output_type'] = 'display_data';\n",
              "          await google.colab.output.renderOutput(dataTable, element);\n",
              "          const docLink = document.createElement('div');\n",
              "          docLink.innerHTML = docLinkHtml;\n",
              "          element.appendChild(docLink);\n",
              "        }\n",
              "      </script>\n",
              "    </div>\n",
              "  </div>\n",
              "  "
            ]
          },
          "metadata": {},
          "execution_count": 27
        }
      ]
    },
    {
      "cell_type": "code",
      "source": [
        "df.dtypes"
      ],
      "metadata": {
        "colab": {
          "base_uri": "https://localhost:8080/"
        },
        "id": "NKxqg7pT2vOz",
        "outputId": "acb6e64b-df74-4716-bed7-8cc23238195f"
      },
      "execution_count": null,
      "outputs": [
        {
          "output_type": "execute_result",
          "data": {
            "text/plain": [
              "patient_id         int64\n",
              "timestamp         object\n",
              "measurement_x    float64\n",
              "measurement_y    float64\n",
              "measurement_z    float64\n",
              "label            float64\n",
              "dtype: object"
            ]
          },
          "metadata": {},
          "execution_count": 28
        }
      ]
    },
    {
      "cell_type": "markdown",
      "source": [
        "## ## From Time-serious to tabular matrix: Build features\n",
        "# mean, max, min std,"
      ],
      "metadata": {
        "id": "NC2tCa5JyH_b"
      }
    },
    {
      "cell_type": "code",
      "source": [
        "# Build new features Mean, Min, Max, std\n",
        "df_new = extract_patient_stats(df)\n",
        "df_new.head()"
      ],
      "metadata": {
        "colab": {
          "base_uri": "https://localhost:8080/",
          "height": 270
        },
        "id": "Et9cvY7hBCTh",
        "outputId": "583df7b7-6bd0-4336-ee64-1be5b5eaeeff"
      },
      "execution_count": null,
      "outputs": [
        {
          "output_type": "execute_result",
          "data": {
            "text/plain": [
              "   patient_id  measurement_x_mean  measurement_x_std  measurement_x_max  \\\n",
              "0           0            0.525537           0.007067           0.539500   \n",
              "1           1            0.526031           0.007472           0.540841   \n",
              "2           2            0.526031           0.007472           0.540841   \n",
              "3           3            0.526031           0.007472           0.540841   \n",
              "4           4            0.629983           0.011894           0.648547   \n",
              "\n",
              "   measurement_x_min  measurement_y_mean  measurement_y_std  \\\n",
              "0           0.516629            0.312309           0.030630   \n",
              "1           0.516629            0.314024           0.031594   \n",
              "2           0.516629            0.314024           0.031594   \n",
              "3           0.516629            0.314024           0.031594   \n",
              "4           0.611318            0.416865           0.005458   \n",
              "\n",
              "   measurement_y_max  measurement_y_min  measurement_z_mean  \\\n",
              "0           0.362164           0.261401            0.142070   \n",
              "1           0.365494           0.261401            0.142545   \n",
              "2           0.365494           0.261401            0.142545   \n",
              "3           0.365494           0.261401            0.142545   \n",
              "4           0.421763           0.399192            0.177539   \n",
              "\n",
              "   measurement_z_std  measurement_z_max  measurement_z_min  \n",
              "0           0.039804           0.182118           0.044226  \n",
              "1           0.039225           0.182118           0.044226  \n",
              "2           0.039225           0.182118           0.044226  \n",
              "3           0.039225           0.182118           0.044226  \n",
              "4           0.016330           0.196618           0.141450  "
            ],
            "text/html": [
              "\n",
              "  <div id=\"df-71e44364-a613-4241-9ae4-a94e542712a5\">\n",
              "    <div class=\"colab-df-container\">\n",
              "      <div>\n",
              "<style scoped>\n",
              "    .dataframe tbody tr th:only-of-type {\n",
              "        vertical-align: middle;\n",
              "    }\n",
              "\n",
              "    .dataframe tbody tr th {\n",
              "        vertical-align: top;\n",
              "    }\n",
              "\n",
              "    .dataframe thead th {\n",
              "        text-align: right;\n",
              "    }\n",
              "</style>\n",
              "<table border=\"1\" class=\"dataframe\">\n",
              "  <thead>\n",
              "    <tr style=\"text-align: right;\">\n",
              "      <th></th>\n",
              "      <th>patient_id</th>\n",
              "      <th>measurement_x_mean</th>\n",
              "      <th>measurement_x_std</th>\n",
              "      <th>measurement_x_max</th>\n",
              "      <th>measurement_x_min</th>\n",
              "      <th>measurement_y_mean</th>\n",
              "      <th>measurement_y_std</th>\n",
              "      <th>measurement_y_max</th>\n",
              "      <th>measurement_y_min</th>\n",
              "      <th>measurement_z_mean</th>\n",
              "      <th>measurement_z_std</th>\n",
              "      <th>measurement_z_max</th>\n",
              "      <th>measurement_z_min</th>\n",
              "    </tr>\n",
              "  </thead>\n",
              "  <tbody>\n",
              "    <tr>\n",
              "      <th>0</th>\n",
              "      <td>0</td>\n",
              "      <td>0.525537</td>\n",
              "      <td>0.007067</td>\n",
              "      <td>0.539500</td>\n",
              "      <td>0.516629</td>\n",
              "      <td>0.312309</td>\n",
              "      <td>0.030630</td>\n",
              "      <td>0.362164</td>\n",
              "      <td>0.261401</td>\n",
              "      <td>0.142070</td>\n",
              "      <td>0.039804</td>\n",
              "      <td>0.182118</td>\n",
              "      <td>0.044226</td>\n",
              "    </tr>\n",
              "    <tr>\n",
              "      <th>1</th>\n",
              "      <td>1</td>\n",
              "      <td>0.526031</td>\n",
              "      <td>0.007472</td>\n",
              "      <td>0.540841</td>\n",
              "      <td>0.516629</td>\n",
              "      <td>0.314024</td>\n",
              "      <td>0.031594</td>\n",
              "      <td>0.365494</td>\n",
              "      <td>0.261401</td>\n",
              "      <td>0.142545</td>\n",
              "      <td>0.039225</td>\n",
              "      <td>0.182118</td>\n",
              "      <td>0.044226</td>\n",
              "    </tr>\n",
              "    <tr>\n",
              "      <th>2</th>\n",
              "      <td>2</td>\n",
              "      <td>0.526031</td>\n",
              "      <td>0.007472</td>\n",
              "      <td>0.540841</td>\n",
              "      <td>0.516629</td>\n",
              "      <td>0.314024</td>\n",
              "      <td>0.031594</td>\n",
              "      <td>0.365494</td>\n",
              "      <td>0.261401</td>\n",
              "      <td>0.142545</td>\n",
              "      <td>0.039225</td>\n",
              "      <td>0.182118</td>\n",
              "      <td>0.044226</td>\n",
              "    </tr>\n",
              "    <tr>\n",
              "      <th>3</th>\n",
              "      <td>3</td>\n",
              "      <td>0.526031</td>\n",
              "      <td>0.007472</td>\n",
              "      <td>0.540841</td>\n",
              "      <td>0.516629</td>\n",
              "      <td>0.314024</td>\n",
              "      <td>0.031594</td>\n",
              "      <td>0.365494</td>\n",
              "      <td>0.261401</td>\n",
              "      <td>0.142545</td>\n",
              "      <td>0.039225</td>\n",
              "      <td>0.182118</td>\n",
              "      <td>0.044226</td>\n",
              "    </tr>\n",
              "    <tr>\n",
              "      <th>4</th>\n",
              "      <td>4</td>\n",
              "      <td>0.629983</td>\n",
              "      <td>0.011894</td>\n",
              "      <td>0.648547</td>\n",
              "      <td>0.611318</td>\n",
              "      <td>0.416865</td>\n",
              "      <td>0.005458</td>\n",
              "      <td>0.421763</td>\n",
              "      <td>0.399192</td>\n",
              "      <td>0.177539</td>\n",
              "      <td>0.016330</td>\n",
              "      <td>0.196618</td>\n",
              "      <td>0.141450</td>\n",
              "    </tr>\n",
              "  </tbody>\n",
              "</table>\n",
              "</div>\n",
              "      <button class=\"colab-df-convert\" onclick=\"convertToInteractive('df-71e44364-a613-4241-9ae4-a94e542712a5')\"\n",
              "              title=\"Convert this dataframe to an interactive table.\"\n",
              "              style=\"display:none;\">\n",
              "        \n",
              "  <svg xmlns=\"http://www.w3.org/2000/svg\" height=\"24px\"viewBox=\"0 0 24 24\"\n",
              "       width=\"24px\">\n",
              "    <path d=\"M0 0h24v24H0V0z\" fill=\"none\"/>\n",
              "    <path d=\"M18.56 5.44l.94 2.06.94-2.06 2.06-.94-2.06-.94-.94-2.06-.94 2.06-2.06.94zm-11 1L8.5 8.5l.94-2.06 2.06-.94-2.06-.94L8.5 2.5l-.94 2.06-2.06.94zm10 10l.94 2.06.94-2.06 2.06-.94-2.06-.94-.94-2.06-.94 2.06-2.06.94z\"/><path d=\"M17.41 7.96l-1.37-1.37c-.4-.4-.92-.59-1.43-.59-.52 0-1.04.2-1.43.59L10.3 9.45l-7.72 7.72c-.78.78-.78 2.05 0 2.83L4 21.41c.39.39.9.59 1.41.59.51 0 1.02-.2 1.41-.59l7.78-7.78 2.81-2.81c.8-.78.8-2.07 0-2.86zM5.41 20L4 18.59l7.72-7.72 1.47 1.35L5.41 20z\"/>\n",
              "  </svg>\n",
              "      </button>\n",
              "      \n",
              "  <style>\n",
              "    .colab-df-container {\n",
              "      display:flex;\n",
              "      flex-wrap:wrap;\n",
              "      gap: 12px;\n",
              "    }\n",
              "\n",
              "    .colab-df-convert {\n",
              "      background-color: #E8F0FE;\n",
              "      border: none;\n",
              "      border-radius: 50%;\n",
              "      cursor: pointer;\n",
              "      display: none;\n",
              "      fill: #1967D2;\n",
              "      height: 32px;\n",
              "      padding: 0 0 0 0;\n",
              "      width: 32px;\n",
              "    }\n",
              "\n",
              "    .colab-df-convert:hover {\n",
              "      background-color: #E2EBFA;\n",
              "      box-shadow: 0px 1px 2px rgba(60, 64, 67, 0.3), 0px 1px 3px 1px rgba(60, 64, 67, 0.15);\n",
              "      fill: #174EA6;\n",
              "    }\n",
              "\n",
              "    [theme=dark] .colab-df-convert {\n",
              "      background-color: #3B4455;\n",
              "      fill: #D2E3FC;\n",
              "    }\n",
              "\n",
              "    [theme=dark] .colab-df-convert:hover {\n",
              "      background-color: #434B5C;\n",
              "      box-shadow: 0px 1px 3px 1px rgba(0, 0, 0, 0.15);\n",
              "      filter: drop-shadow(0px 1px 2px rgba(0, 0, 0, 0.3));\n",
              "      fill: #FFFFFF;\n",
              "    }\n",
              "  </style>\n",
              "\n",
              "      <script>\n",
              "        const buttonEl =\n",
              "          document.querySelector('#df-71e44364-a613-4241-9ae4-a94e542712a5 button.colab-df-convert');\n",
              "        buttonEl.style.display =\n",
              "          google.colab.kernel.accessAllowed ? 'block' : 'none';\n",
              "\n",
              "        async function convertToInteractive(key) {\n",
              "          const element = document.querySelector('#df-71e44364-a613-4241-9ae4-a94e542712a5');\n",
              "          const dataTable =\n",
              "            await google.colab.kernel.invokeFunction('convertToInteractive',\n",
              "                                                     [key], {});\n",
              "          if (!dataTable) return;\n",
              "\n",
              "          const docLinkHtml = 'Like what you see? Visit the ' +\n",
              "            '<a target=\"_blank\" href=https://colab.research.google.com/notebooks/data_table.ipynb>data table notebook</a>'\n",
              "            + ' to learn more about interactive tables.';\n",
              "          element.innerHTML = '';\n",
              "          dataTable['output_type'] = 'display_data';\n",
              "          await google.colab.output.renderOutput(dataTable, element);\n",
              "          const docLink = document.createElement('div');\n",
              "          docLink.innerHTML = docLinkHtml;\n",
              "          element.appendChild(docLink);\n",
              "        }\n",
              "      </script>\n",
              "    </div>\n",
              "  </div>\n",
              "  "
            ]
          },
          "metadata": {},
          "execution_count": 29
        }
      ]
    },
    {
      "cell_type": "code",
      "source": [
        "df_new.isna().sum()"
      ],
      "metadata": {
        "colab": {
          "base_uri": "https://localhost:8080/"
        },
        "id": "qLpcS5Y79pf9",
        "outputId": "ddf4387a-6611-4738-f9f4-feb6c612bf0f"
      },
      "execution_count": null,
      "outputs": [
        {
          "output_type": "execute_result",
          "data": {
            "text/plain": [
              "patient_id            0\n",
              "measurement_x_mean    0\n",
              "measurement_x_std     0\n",
              "measurement_x_max     0\n",
              "measurement_x_min     0\n",
              "measurement_y_mean    0\n",
              "measurement_y_std     0\n",
              "measurement_y_max     0\n",
              "measurement_y_min     0\n",
              "measurement_z_mean    0\n",
              "measurement_z_std     0\n",
              "measurement_z_max     0\n",
              "measurement_z_min     0\n",
              "dtype: int64"
            ]
          },
          "metadata": {},
          "execution_count": 25
        }
      ]
    },
    {
      "cell_type": "code",
      "source": [
        "df_new.columns"
      ],
      "metadata": {
        "colab": {
          "base_uri": "https://localhost:8080/"
        },
        "id": "fFKm63QdEhJN",
        "outputId": "85fe7ba0-4d4c-4bde-e584-816cf3978d5f"
      },
      "execution_count": null,
      "outputs": [
        {
          "output_type": "execute_result",
          "data": {
            "text/plain": [
              "Index(['patient_id', 'measurement_x_mean', 'measurement_x_std',\n",
              "       'measurement_x_max', 'measurement_x_min', 'measurement_y_mean',\n",
              "       'measurement_y_std', 'measurement_y_max', 'measurement_y_min',\n",
              "       'measurement_z_mean', 'measurement_z_std', 'measurement_z_max',\n",
              "       'measurement_z_min'],\n",
              "      dtype='object')"
            ]
          },
          "metadata": {},
          "execution_count": 27
        }
      ]
    },
    {
      "cell_type": "code",
      "source": [
        "## Scaling\n",
        "from sklearn import preprocessing\n",
        "\n",
        "min_max_scaler  = preprocessing.MinMaxScaler()\n",
        "\n",
        "features = ['measurement_x_mean', 'measurement_x_std',\n",
        "       'measurement_x_max', 'measurement_x_min', 'measurement_y_mean',\n",
        "       'measurement_y_std', 'measurement_y_max', 'measurement_y_min',\n",
        "       'measurement_z_mean', 'measurement_z_std', 'measurement_z_max',\n",
        "       'measurement_z_min']\n",
        "\n",
        "\n",
        "# features = ['mean_x', 'mean_y', 'mean_z', 'min_x', 'min_y', 'min_z',\n",
        "#        'max_x', 'max_y', 'max_z', 'std_x', 'std_y', 'std_z']\n",
        "\n",
        "df_new[features] = min_max_scaler.fit_transform(df_new[features])\n",
        "# add label to the matrix\n",
        "df_new[\"label\"] = df.groupby(\"patient_id\").mean()[\"label\"]\n",
        "df_new.head()"
      ],
      "metadata": {
        "colab": {
          "base_uri": "https://localhost:8080/",
          "height": 270
        },
        "id": "EA_L5OIGhTJV",
        "outputId": "d4a341ea-5a8c-48d5-ca50-1db180fc856d"
      },
      "execution_count": null,
      "outputs": [
        {
          "output_type": "execute_result",
          "data": {
            "text/plain": [
              "   patient_id  measurement_x_mean  measurement_x_std  measurement_x_max  \\\n",
              "0           0            0.521482           0.052073           0.337379   \n",
              "1           1            0.522263           0.055120           0.339310   \n",
              "2           2            0.522263           0.055120           0.339310   \n",
              "3           3            0.522263           0.055120           0.339310   \n",
              "4           4            0.686902           0.088385           0.494289   \n",
              "\n",
              "   measurement_x_min  measurement_y_mean  measurement_y_std  \\\n",
              "0           0.778280            0.277251           0.258726   \n",
              "1           0.778280            0.279787           0.266893   \n",
              "2           0.778280            0.279787           0.266893   \n",
              "3           0.778280            0.279787           0.266893   \n",
              "4           0.920924            0.431789           0.045441   \n",
              "\n",
              "   measurement_y_max  measurement_y_min  measurement_z_mean  \\\n",
              "0           0.127715           0.423862            0.137579   \n",
              "1           0.132268           0.423862            0.138138   \n",
              "2           0.132268           0.423862            0.138138   \n",
              "3           0.132268           0.423862            0.138138   \n",
              "4           0.209219           0.647291            0.179337   \n",
              "\n",
              "   measurement_z_std  measurement_z_max  measurement_z_min  label  \n",
              "0           0.162177           0.152932           0.083332    1.0  \n",
              "1           0.159725           0.152932           0.083332    1.0  \n",
              "2           0.159725           0.152932           0.083332    1.0  \n",
              "3           0.159725           0.152932           0.083332    1.0  \n",
              "4           0.062907           0.167950           0.266523    1.0  "
            ],
            "text/html": [
              "\n",
              "  <div id=\"df-656a5242-6504-4caf-8e10-278a175681ce\">\n",
              "    <div class=\"colab-df-container\">\n",
              "      <div>\n",
              "<style scoped>\n",
              "    .dataframe tbody tr th:only-of-type {\n",
              "        vertical-align: middle;\n",
              "    }\n",
              "\n",
              "    .dataframe tbody tr th {\n",
              "        vertical-align: top;\n",
              "    }\n",
              "\n",
              "    .dataframe thead th {\n",
              "        text-align: right;\n",
              "    }\n",
              "</style>\n",
              "<table border=\"1\" class=\"dataframe\">\n",
              "  <thead>\n",
              "    <tr style=\"text-align: right;\">\n",
              "      <th></th>\n",
              "      <th>patient_id</th>\n",
              "      <th>measurement_x_mean</th>\n",
              "      <th>measurement_x_std</th>\n",
              "      <th>measurement_x_max</th>\n",
              "      <th>measurement_x_min</th>\n",
              "      <th>measurement_y_mean</th>\n",
              "      <th>measurement_y_std</th>\n",
              "      <th>measurement_y_max</th>\n",
              "      <th>measurement_y_min</th>\n",
              "      <th>measurement_z_mean</th>\n",
              "      <th>measurement_z_std</th>\n",
              "      <th>measurement_z_max</th>\n",
              "      <th>measurement_z_min</th>\n",
              "      <th>label</th>\n",
              "    </tr>\n",
              "  </thead>\n",
              "  <tbody>\n",
              "    <tr>\n",
              "      <th>0</th>\n",
              "      <td>0</td>\n",
              "      <td>0.521482</td>\n",
              "      <td>0.052073</td>\n",
              "      <td>0.337379</td>\n",
              "      <td>0.778280</td>\n",
              "      <td>0.277251</td>\n",
              "      <td>0.258726</td>\n",
              "      <td>0.127715</td>\n",
              "      <td>0.423862</td>\n",
              "      <td>0.137579</td>\n",
              "      <td>0.162177</td>\n",
              "      <td>0.152932</td>\n",
              "      <td>0.083332</td>\n",
              "      <td>1.0</td>\n",
              "    </tr>\n",
              "    <tr>\n",
              "      <th>1</th>\n",
              "      <td>1</td>\n",
              "      <td>0.522263</td>\n",
              "      <td>0.055120</td>\n",
              "      <td>0.339310</td>\n",
              "      <td>0.778280</td>\n",
              "      <td>0.279787</td>\n",
              "      <td>0.266893</td>\n",
              "      <td>0.132268</td>\n",
              "      <td>0.423862</td>\n",
              "      <td>0.138138</td>\n",
              "      <td>0.159725</td>\n",
              "      <td>0.152932</td>\n",
              "      <td>0.083332</td>\n",
              "      <td>1.0</td>\n",
              "    </tr>\n",
              "    <tr>\n",
              "      <th>2</th>\n",
              "      <td>2</td>\n",
              "      <td>0.522263</td>\n",
              "      <td>0.055120</td>\n",
              "      <td>0.339310</td>\n",
              "      <td>0.778280</td>\n",
              "      <td>0.279787</td>\n",
              "      <td>0.266893</td>\n",
              "      <td>0.132268</td>\n",
              "      <td>0.423862</td>\n",
              "      <td>0.138138</td>\n",
              "      <td>0.159725</td>\n",
              "      <td>0.152932</td>\n",
              "      <td>0.083332</td>\n",
              "      <td>1.0</td>\n",
              "    </tr>\n",
              "    <tr>\n",
              "      <th>3</th>\n",
              "      <td>3</td>\n",
              "      <td>0.522263</td>\n",
              "      <td>0.055120</td>\n",
              "      <td>0.339310</td>\n",
              "      <td>0.778280</td>\n",
              "      <td>0.279787</td>\n",
              "      <td>0.266893</td>\n",
              "      <td>0.132268</td>\n",
              "      <td>0.423862</td>\n",
              "      <td>0.138138</td>\n",
              "      <td>0.159725</td>\n",
              "      <td>0.152932</td>\n",
              "      <td>0.083332</td>\n",
              "      <td>1.0</td>\n",
              "    </tr>\n",
              "    <tr>\n",
              "      <th>4</th>\n",
              "      <td>4</td>\n",
              "      <td>0.686902</td>\n",
              "      <td>0.088385</td>\n",
              "      <td>0.494289</td>\n",
              "      <td>0.920924</td>\n",
              "      <td>0.431789</td>\n",
              "      <td>0.045441</td>\n",
              "      <td>0.209219</td>\n",
              "      <td>0.647291</td>\n",
              "      <td>0.179337</td>\n",
              "      <td>0.062907</td>\n",
              "      <td>0.167950</td>\n",
              "      <td>0.266523</td>\n",
              "      <td>1.0</td>\n",
              "    </tr>\n",
              "  </tbody>\n",
              "</table>\n",
              "</div>\n",
              "      <button class=\"colab-df-convert\" onclick=\"convertToInteractive('df-656a5242-6504-4caf-8e10-278a175681ce')\"\n",
              "              title=\"Convert this dataframe to an interactive table.\"\n",
              "              style=\"display:none;\">\n",
              "        \n",
              "  <svg xmlns=\"http://www.w3.org/2000/svg\" height=\"24px\"viewBox=\"0 0 24 24\"\n",
              "       width=\"24px\">\n",
              "    <path d=\"M0 0h24v24H0V0z\" fill=\"none\"/>\n",
              "    <path d=\"M18.56 5.44l.94 2.06.94-2.06 2.06-.94-2.06-.94-.94-2.06-.94 2.06-2.06.94zm-11 1L8.5 8.5l.94-2.06 2.06-.94-2.06-.94L8.5 2.5l-.94 2.06-2.06.94zm10 10l.94 2.06.94-2.06 2.06-.94-2.06-.94-.94-2.06-.94 2.06-2.06.94z\"/><path d=\"M17.41 7.96l-1.37-1.37c-.4-.4-.92-.59-1.43-.59-.52 0-1.04.2-1.43.59L10.3 9.45l-7.72 7.72c-.78.78-.78 2.05 0 2.83L4 21.41c.39.39.9.59 1.41.59.51 0 1.02-.2 1.41-.59l7.78-7.78 2.81-2.81c.8-.78.8-2.07 0-2.86zM5.41 20L4 18.59l7.72-7.72 1.47 1.35L5.41 20z\"/>\n",
              "  </svg>\n",
              "      </button>\n",
              "      \n",
              "  <style>\n",
              "    .colab-df-container {\n",
              "      display:flex;\n",
              "      flex-wrap:wrap;\n",
              "      gap: 12px;\n",
              "    }\n",
              "\n",
              "    .colab-df-convert {\n",
              "      background-color: #E8F0FE;\n",
              "      border: none;\n",
              "      border-radius: 50%;\n",
              "      cursor: pointer;\n",
              "      display: none;\n",
              "      fill: #1967D2;\n",
              "      height: 32px;\n",
              "      padding: 0 0 0 0;\n",
              "      width: 32px;\n",
              "    }\n",
              "\n",
              "    .colab-df-convert:hover {\n",
              "      background-color: #E2EBFA;\n",
              "      box-shadow: 0px 1px 2px rgba(60, 64, 67, 0.3), 0px 1px 3px 1px rgba(60, 64, 67, 0.15);\n",
              "      fill: #174EA6;\n",
              "    }\n",
              "\n",
              "    [theme=dark] .colab-df-convert {\n",
              "      background-color: #3B4455;\n",
              "      fill: #D2E3FC;\n",
              "    }\n",
              "\n",
              "    [theme=dark] .colab-df-convert:hover {\n",
              "      background-color: #434B5C;\n",
              "      box-shadow: 0px 1px 3px 1px rgba(0, 0, 0, 0.15);\n",
              "      filter: drop-shadow(0px 1px 2px rgba(0, 0, 0, 0.3));\n",
              "      fill: #FFFFFF;\n",
              "    }\n",
              "  </style>\n",
              "\n",
              "      <script>\n",
              "        const buttonEl =\n",
              "          document.querySelector('#df-656a5242-6504-4caf-8e10-278a175681ce button.colab-df-convert');\n",
              "        buttonEl.style.display =\n",
              "          google.colab.kernel.accessAllowed ? 'block' : 'none';\n",
              "\n",
              "        async function convertToInteractive(key) {\n",
              "          const element = document.querySelector('#df-656a5242-6504-4caf-8e10-278a175681ce');\n",
              "          const dataTable =\n",
              "            await google.colab.kernel.invokeFunction('convertToInteractive',\n",
              "                                                     [key], {});\n",
              "          if (!dataTable) return;\n",
              "\n",
              "          const docLinkHtml = 'Like what you see? Visit the ' +\n",
              "            '<a target=\"_blank\" href=https://colab.research.google.com/notebooks/data_table.ipynb>data table notebook</a>'\n",
              "            + ' to learn more about interactive tables.';\n",
              "          element.innerHTML = '';\n",
              "          dataTable['output_type'] = 'display_data';\n",
              "          await google.colab.output.renderOutput(dataTable, element);\n",
              "          const docLink = document.createElement('div');\n",
              "          docLink.innerHTML = docLinkHtml;\n",
              "          element.appendChild(docLink);\n",
              "        }\n",
              "      </script>\n",
              "    </div>\n",
              "  </div>\n",
              "  "
            ]
          },
          "metadata": {},
          "execution_count": 31
        }
      ]
    },
    {
      "cell_type": "code",
      "source": [
        "# plot correlation matrix\n",
        "f, ax1 = plt.subplots(1, 1, figsize=(14,5))\n",
        "sns.heatmap(df_new.corr(), cmap='coolwarm_r', annot_kws={'size':20}, vmin=-1, vmax=1, annot = False)\n",
        "ax1.set_title(\"Correlation Matrix w feature engineering\", fontsize=19)"
      ],
      "metadata": {
        "colab": {
          "base_uri": "https://localhost:8080/",
          "height": 462
        },
        "id": "amlwz8oTR4M6",
        "outputId": "69624da5-1916-4aca-ee68-658e490bb33e"
      },
      "execution_count": null,
      "outputs": [
        {
          "output_type": "execute_result",
          "data": {
            "text/plain": [
              "Text(0.5, 1.0, 'Correlation Matrix w feature engineering')"
            ]
          },
          "metadata": {},
          "execution_count": 32
        },
        {
          "output_type": "display_data",
          "data": {
            "text/plain": [
              "<Figure size 1008x360 with 2 Axes>"
            ],
            "image/png": "[encoded data removed]"
          },
          "metadata": {
            "needs_background": "light"
          }
        }
      ]
    },
    {
      "cell_type": "markdown",
      "source": [
        "\n",
        "# Run Random Forest Classifier\n",
        "\n",
        "\n",
        "\n"
      ],
      "metadata": {
        "id": "p7xuzTzDE4_R"
      }
    },
    {
      "cell_type": "code",
      "source": [
        "from sklearn.ensemble import RandomForestClassifier\n",
        "from sklearn.model_selection import train_test_split\n",
        "from sklearn.metrics import classification_report\n",
        "\n",
        "df_new = df_new.dropna()\n",
        "X = df_new.drop(['label'], axis=1)\n",
        "y = df_new[\"label\"]\n",
        "\n",
        "X_train, X_test, y_train, y_test = train_test_split(X, y, test_size=.33, random_state=10)\n",
        "\n",
        "# Turn the values into an array for feeding the classification algorithms.\n",
        "X_train = X_train.values\n",
        "X_test = X_test.values\n",
        "y_train = y_train.values\n",
        "y_test = y_test.values\n",
        "\n",
        "rfc = RandomForestClassifier(class_weight=\"balanced\")\n",
        "\n",
        "rfc.fit(X_train, y_train)\n",
        "\n",
        "y_train_pred = rfc.predict(X_train)\n",
        "y_test_pred = rfc.predict(X_test)\n",
        "\n",
        "print('Classification on Training set')\n",
        "print(classification_report(y_train, y_train_pred))\n",
        "\n",
        "print('\\n Classification on Test set')\n",
        "print(classification_report(y_test, y_test_pred))"
      ],
      "metadata": {
        "colab": {
          "base_uri": "https://localhost:8080/"
        },
        "id": "6ENEJfP18weO",
        "outputId": "d371707c-70f2-4ad8-a856-88b412594cef"
      },
      "execution_count": null,
      "outputs": [
        {
          "output_type": "stream",
          "name": "stdout",
          "text": [
            "Classification on Training set\n",
            "              precision    recall  f1-score   support\n",
            "\n",
            "         0.0       1.00      1.00      1.00      2909\n",
            "         1.0       1.00      1.00      1.00       954\n",
            "         2.0       1.00      1.00      1.00       303\n",
            "\n",
            "    accuracy                           1.00      4166\n",
            "   macro avg       1.00      1.00      1.00      4166\n",
            "weighted avg       1.00      1.00      1.00      4166\n",
            "\n",
            "\n",
            " Classification on Test set\n",
            "              precision    recall  f1-score   support\n",
            "\n",
            "         0.0       1.00      1.00      1.00      1425\n",
            "         1.0       1.00      1.00      1.00       500\n",
            "         2.0       1.00      0.98      0.99       127\n",
            "\n",
            "    accuracy                           1.00      2052\n",
            "   macro avg       1.00      0.99      1.00      2052\n",
            "weighted avg       1.00      1.00      1.00      2052\n",
            "\n"
          ]
        }
      ]
    },
    {
      "cell_type": "markdown",
      "source": [
        "## Run Four Classifiers report the F1 score\n",
        "\n",
        "> Indented block\n",
        "\n",
        "\n"
      ],
      "metadata": {
        "id": "yRWcFUXY2D3_"
      }
    },
    {
      "cell_type": "code",
      "source": [
        "\n",
        "# Classifier Libraries\n",
        "from sklearn.svm import SVC\n",
        "from sklearn.neighbors import KNeighborsClassifier\n",
        "from sklearn.tree import DecisionTreeClassifier\n",
        "from sklearn.ensemble import RandomForestClassifier\n",
        "#import collections\n",
        "from sklearn.model_selection import cross_val_score\n",
        "\n",
        "\n",
        "classifiers = {\n",
        "    \"RandomForestClassifier\": RandomForestClassifier(),\n",
        "    \"KNearest\": KNeighborsClassifier(),\n",
        "    \"Support Vector Classifier\": SVC(),\n",
        "    \"DecisionTreeClassifier\": DecisionTreeClassifier()\n",
        "}\n",
        "\n",
        "\n",
        "for key, classifier in classifiers.items():\n",
        "    #print(classifier)\n",
        "    classifier.fit(X_train, y_train)\n",
        "    F1_score_for_each_split_in_CV = cross_val_score(classifier, X_train, y_train, scoring = \"f1_weighted\", cv=5)\n",
        "    print(\"Classifiers: \", classifier.__class__.__name__, \"Has F1 mean score of\", round(F1_score_for_each_split_in_CV.mean(), 2) * 100, \"% on 5-fold CV\")\n",
        "    #print(\"Classifiers: \", classifier.__class__.__name__, \"Has F1 std score of\", round(F1_score_for_each_split_in_CV.std(), 2) * 100, \"% on 5-fold CV\")\n",
        "\n"
      ],
      "metadata": {
        "colab": {
          "base_uri": "https://localhost:8080/"
        },
        "id": "-vra_EiED4L1",
        "outputId": "6edf4797-90df-49a0-f194-ec83c544376a"
      },
      "execution_count": null,
      "outputs": [
        {
          "output_type": "stream",
          "name": "stdout",
          "text": [
            "Classifiers:  RandomForestClassifier Has F1 mean score of 99.0 % on 5-fold CV\n",
            "Classifiers:  KNeighborsClassifier Has F1 mean score of 76.0 % on 5-fold CV\n",
            "Classifiers:  SVC Has F1 mean score of 56.99999999999999 % on 5-fold CV\n",
            "Classifiers:  DecisionTreeClassifier Has F1 mean score of 98.0 % on 5-fold CV\n"
          ]
        }
      ]
    },
    {
      "cell_type": "markdown",
      "source": [
        "## Confusion Matrix and the Test set\n",
        "\n"
      ],
      "metadata": {
        "id": "xjA_eXuCAz7d"
      }
    },
    {
      "cell_type": "code",
      "source": [
        "from sklearn.metrics import confusion_matrix\n",
        "from sklearn.metrics import classification_report\n",
        "\n",
        "\n",
        "matrix = confusion_matrix(y_test, y_test_pred)\n",
        "print(\"RandomForestClassifier Test Set \\n Confusion Matrix: \\n\", matrix)\n",
        "\n",
        "\n",
        "print('\\n Classification on Training set')\n",
        "print(classification_report(y_train, y_train_pred))\n",
        "\n",
        "print('\\n Classification on Test set')\n",
        "print(classification_report(y_test, y_test_pred))"
      ],
      "metadata": {
        "id": "WaGE625g_azS",
        "colab": {
          "base_uri": "https://localhost:8080/"
        },
        "outputId": "b8287d44-e14e-4979-806b-41d601bf5034"
      },
      "execution_count": null,
      "outputs": [
        {
          "output_type": "stream",
          "name": "stdout",
          "text": [
            "RandomForestClassifier Test Set \n",
            " Confusion Matrix: \n",
            " [[1425    0    0]\n",
            " [   0  500    0]\n",
            " [   2    0  125]]\n",
            "\n",
            " Classification on Training set\n",
            "              precision    recall  f1-score   support\n",
            "\n",
            "         0.0       1.00      1.00      1.00      2909\n",
            "         1.0       1.00      1.00      1.00       954\n",
            "         2.0       1.00      1.00      1.00       303\n",
            "\n",
            "    accuracy                           1.00      4166\n",
            "   macro avg       1.00      1.00      1.00      4166\n",
            "weighted avg       1.00      1.00      1.00      4166\n",
            "\n",
            "\n",
            " Classification on Test set\n",
            "              precision    recall  f1-score   support\n",
            "\n",
            "         0.0       1.00      1.00      1.00      1425\n",
            "         1.0       1.00      1.00      1.00       500\n",
            "         2.0       1.00      0.98      0.99       127\n",
            "\n",
            "    accuracy                           1.00      2052\n",
            "   macro avg       1.00      0.99      1.00      2052\n",
            "weighted avg       1.00      1.00      1.00      2052\n",
            "\n"
          ]
        }
      ]
    },
    {
      "cell_type": "code",
      "source": [
        "# Use GridSearchCV to find the best parameters.\n",
        "from sklearn.model_selection import GridSearchCV\n",
        "\n",
        "\n",
        "# DecisionTree Classifier\n",
        "# f1 micro-average is preferable because we have class imbalance\n",
        "tree_params = {\"criterion\": [\"gini\", \"entropy\"], \"max_depth\": list(range(2,4,1)),\n",
        "              \"min_samples_leaf\": list(range(5,7,1))}\n",
        "#grid_tree = GridSearchCV(DecisionTreeClassifier(), tree_params)\n",
        "grid_tree = GridSearchCV(DecisionTreeClassifier(), tree_params, scoring = 'f1_micro') # for best f1\n",
        "grid_tree.fit(X_train, y_train)\n",
        "\n",
        "# tree best estimator\n",
        "tree_clf = grid_tree.best_estimator_\n",
        "\n",
        "\n",
        " # for DecisionTree Classifier\n",
        "print('Grid best parameter (max. f1_micro): ', grid_tree.best_params_)\n",
        "print('Grid DecisionTree Classifier best score (f1_micro): ', grid_tree.best_score_)"
      ],
      "metadata": {
        "colab": {
          "base_uri": "https://localhost:8080/"
        },
        "id": "X7k5WvzDAIlp",
        "outputId": "c1570927-1c94-446c-e135-f62d06c9c47b"
      },
      "execution_count": null,
      "outputs": [
        {
          "output_type": "stream",
          "name": "stdout",
          "text": [
            "Grid best parameter (max. f1_micro):  {'criterion': 'gini', 'max_depth': 3, 'min_samples_leaf': 5}\n",
            "Grid DecisionTree Classifier best score (f1_micro):  0.8756578890549026\n"
          ]
        }
      ]
    },
    {
      "cell_type": "code",
      "source": [],
      "metadata": {
        "id": "KNFpXM-IApS1"
      },
      "execution_count": null,
      "outputs": []
    }
  ]
}